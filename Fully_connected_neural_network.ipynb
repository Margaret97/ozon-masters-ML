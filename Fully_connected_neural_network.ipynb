{
 "cells": [
  {
   "cell_type": "markdown",
   "metadata": {
    "colab_type": "text",
    "id": "IQwlunyE86kE"
   },
   "source": [
    "# Обучение полносвязной нейронной сети."
   ]
  },
  {
   "cell_type": "code",
   "execution_count": 1,
   "metadata": {
    "ExecuteTime": {
     "end_time": "2020-09-29T10:27:47.266260Z",
     "start_time": "2020-09-29T10:27:47.262276Z"
    },
    "colab": {},
    "colab_type": "code",
    "id": "UyCGfNgA86kF"
   },
   "outputs": [],
   "source": [
    "import numpy as np"
   ]
  },
  {
   "cell_type": "markdown",
   "metadata": {
    "colab_type": "text",
    "id": "VHcumwuF86kL"
   },
   "source": [
    "# Реализация нейронной сети\n",
    "Здесь реализовано обучение полносвязной нейронной сети для распознавания рукописных цифр.\n",
    "Для начала нам понадобится реализовать прямой и обратный проход через слои. Наши слои будут соответствовать следующему интерфейсу (на примере \"тождественного\" слоя):"
   ]
  },
  {
   "cell_type": "code",
   "execution_count": 2,
   "metadata": {
    "ExecuteTime": {
     "end_time": "2020-09-29T10:27:50.721706Z",
     "start_time": "2020-09-29T10:27:50.714677Z"
    },
    "colab": {},
    "colab_type": "code",
    "id": "SiqeRVcM86kM"
   },
   "outputs": [],
   "source": [
    "class IdentityLayer:\n",
    "    \"\"\"\n",
    "    A building block. Each layer is capable of performing two things:\n",
    "    \n",
    "    - Process input to get output:           \n",
    "    output = layer.forward(input)\n",
    "    \n",
    "    - Propagate gradients through itself:    \n",
    "    grad_input = layer.backward(input, grad_output)\n",
    "    \n",
    "    Some layers also have learnable parameters.\n",
    "    \n",
    "    Modified code from cs.hse DL course *\n",
    "    \"\"\"\n",
    "    def __init__(self):\n",
    "        \"\"\"Here you can initialize layer parameters (if any) \n",
    "        and auxiliary stuff. You should enumerate all parameters\n",
    "        in self.params\"\"\"\n",
    "        # An identity layer does nothing\n",
    "        self.params = []\n",
    "        pass\n",
    "    \n",
    "    def forward(self, input):\n",
    "        \"\"\"\n",
    "        Takes input data of shape [batch, input_units], \n",
    "        returns output data [batch, output_units]\n",
    "        \"\"\"\n",
    "        # An identity layer just returns whatever it gets as input.\n",
    "        self.input = input\n",
    "        return input\n",
    "\n",
    "    def backward(self, grad_output): \n",
    "        \"\"\"\n",
    "        Performs a backpropagation step through the layer, \n",
    "        with respect to the given input.\n",
    "        \n",
    "        To compute loss gradients w.r.t input, \n",
    "        you need to apply chain rule (backprop):\n",
    "        \n",
    "        d loss / d input  = (d loss / d layer) *  (d layer / d input)\n",
    "        \n",
    "        Luckily, you already receive d loss / d layer as input, \n",
    "        so you only need to multiply it by d layer / d x.\n",
    "        \n",
    "        The method returns:\n",
    "        * gradient w.r.t input (will be passed to \n",
    "          previous layer's backward method)\n",
    "        * flattened gradient w.r.t. parameters (with .ravel() \n",
    "          applied to each gradient). \n",
    "          If there are no params, return []\n",
    "        \"\"\"\n",
    "        # The gradient of an identity layer is precisely grad_output\n",
    "        input_dim = self.input.shape[1]\n",
    "        \n",
    "        d_layer_d_input = np.eye(input_dim)\n",
    "        \n",
    "        return np.dot(grad_output, d_layer_d_input), [] # chain rule"
   ]
  },
  {
   "cell_type": "markdown",
   "metadata": {
    "colab_type": "text",
    "id": "N4IoM_pX86kQ"
   },
   "source": [
    "\n",
    "# Слой нелинейности ReLU\n",
    "Реализуем слой нелинейности $ReLU(x) = max(x, 0)$ (параметров у слоя нет). Метод forward должен вернуть результат поэлементного применения ReLU к входному массиву, метод backward - градиент функции потерь по входу слоя. В нуле будем считать производную равной 0."
   ]
  },
  {
   "cell_type": "code",
   "execution_count": 3,
   "metadata": {
    "ExecuteTime": {
     "end_time": "2020-09-29T15:00:30.669741Z",
     "start_time": "2020-09-29T15:00:30.664790Z"
    },
    "colab": {},
    "colab_type": "code",
    "id": "y09ZVCsT86kT"
   },
   "outputs": [],
   "source": [
    "class ReLU:\n",
    "    \"\"\"\n",
    "    Modified code from cs.hse DL course *\n",
    "    \"\"\"\n",
    "    def __init__(self):\n",
    "        \"\"\"ReLU layer simply applies elementwise rectified linear unit to all inputs\"\"\"\n",
    "        self.params = [] # ReLU has no parameters\n",
    "    \n",
    "    def forward(self, input):\n",
    "        \"\"\"Apply elementwise ReLU to [batch, num_units] matrix\"\"\"\n",
    "        self.forward_output = np.where(input>0, input, 0)\n",
    "        return self.forward_output \n",
    "    \n",
    "    def backward(self, grad_output):\n",
    "        \"\"\"Compute gradient of loss w.r.t. ReLU input\n",
    "        grad_output shape: [batch, num_units]\n",
    "        output 1 shape: [batch, num_units]\n",
    "        output 2: []\n",
    "        \"\"\" \n",
    "        grad = grad_output*(self.forward_output>0)\n",
    "        return grad, []"
   ]
  },
  {
   "cell_type": "markdown",
   "metadata": {
    "colab_type": "text",
    "id": "ojTR4GFd86kY"
   },
   "source": [
    "# Полносвязный слой\n",
    "Далее реализуем полносвязный слой без нелинейности. У слоя два параметра: матрица весов и вектор сдвига.\n",
    "\n",
    "Во втором аргументе надо возвращать градиент по всем параметрам в одномерном виде (сначала применяем .ravel() ко всем градиентам, а затем воспользоваться np.r_):"
   ]
  },
  {
   "cell_type": "code",
   "execution_count": 4,
   "metadata": {
    "ExecuteTime": {
     "end_time": "2020-09-29T16:20:41.055530Z",
     "start_time": "2020-09-29T16:20:41.046526Z"
    },
    "colab": {},
    "colab_type": "code",
    "id": "YbN5JOc886kZ"
   },
   "outputs": [],
   "source": [
    "class Dense:\n",
    "    \"\"\"\n",
    "    Modified code from cs.hse DL course *\n",
    "    \"\"\"\n",
    "    def __init__(self, input_units, output_units):\n",
    "        \"\"\"\n",
    "        A dense layer is a layer which performs a learned affine transformation:\n",
    "        f(x) = xW + b\n",
    "        \"\"\"\n",
    "        # initialize weights with small random numbers from normal distribution\n",
    "        self.weights = np.random.randn(input_units, output_units)*0.01\n",
    "        self.biases = np.zeros(output_units)\n",
    "        self.params = [self.weights, self.biases]\n",
    "        \n",
    "    def forward(self,input):\n",
    "        \"\"\"\n",
    "        Perform an affine transformation:\n",
    "        f(x) = xW + b\n",
    "        \n",
    "        input shape: [batch, input_units]\n",
    "        output shape: [batch, output units]\n",
    "        \"\"\"\n",
    "        y = input.dot(self.weights) + self.biases\n",
    "        self.input = input\n",
    "        return y\n",
    "        \n",
    "    \n",
    "    def backward(self, grad_output):\n",
    "        \"\"\"\n",
    "        compute gradients\n",
    "        grad_output shape: [batch, output_units]\n",
    "        output shapes: [batch, input_units], [num_params]\n",
    "        \n",
    "        hint: use function np.r_\n",
    "        np.r_[np.arange(3), np.arange(3)] = [0, 1, 2, 0, 1, 2]\n",
    "        \"\"\"\n",
    "        grad_x = grad_output.dot(self.weights.T)\n",
    "        n = grad_output.shape[0]\n",
    "        grad_w = np.zeros(self.weights.shape)\n",
    "        for i in range(n):\n",
    "            grad_w = grad_w + grad_output[i] * self.input[i].reshape(-1, 1)\n",
    "        grad_b = np.sum(grad_output, axis=0)\n",
    "        return grad_x, np.r_[grad_w.ravel(), grad_b.ravel()]"
   ]
  },
  {
   "cell_type": "code",
   "execution_count": 5,
   "metadata": {
    "ExecuteTime": {
     "end_time": "2020-09-29T10:28:10.057000Z",
     "start_time": "2020-09-29T10:28:10.043074Z"
    }
   },
   "outputs": [
    {
     "name": "stdout",
     "output_type": "stream",
     "text": [
      "Well done!\n"
     ]
    }
   ],
   "source": [
    "l = Dense(128, 150)\n",
    "assert -0.05 < l.weights.mean() < 0.05 and 1e-3 < l.weights.std() < 1e-1,\\\n",
    "    \"The initial weights must have zero mean and small variance. \"\\\n",
    "    \"If you know what you're doing, remove this assertion.\"\n",
    "assert -0.05 < l.biases.mean() < 0.05, \"Biases must be zero mean. Ignore if you have a reason to do otherwise.\"\n",
    "\n",
    "# To test the outputs, we explicitly set weights with fixed values. DO NOT DO THAT IN ACTUAL NETWORK!\n",
    "l = Dense(3,4)\n",
    "\n",
    "x = np.linspace(-1,1,2*3).reshape([2,3])\n",
    "l.weights = np.linspace(-1,1,3*4).reshape([3,4])\n",
    "l.biases = np.linspace(-1,1,4)\n",
    "\n",
    "assert np.allclose(l.forward(x),np.array([[ 0.07272727,  0.41212121,  0.75151515,  1.09090909],\n",
    "                                          [-0.90909091,  0.08484848,  1.07878788,  2.07272727]]))\n",
    "print(\"Well done!\")"
   ]
  },
  {
   "cell_type": "markdown",
   "metadata": {},
   "source": [
    "# Проверка градиента\n",
    "Проверим правильность реализации с помощью функции численной проверки градиента. Функция берет на вход callable объект (функцию от одного аргумента-матрицы) и аргумент и вычисляет приближенный градиент функции в этой точке."
   ]
  },
  {
   "cell_type": "code",
   "execution_count": 6,
   "metadata": {
    "ExecuteTime": {
     "end_time": "2020-09-29T10:27:58.741741Z",
     "start_time": "2020-09-29T10:27:58.731723Z"
    }
   },
   "outputs": [],
   "source": [
    "def eval_numerical_gradient(f, x, verbose=False, h=0.00001):\n",
    "    \"\"\"Evaluates gradient df/dx via finite differences:\n",
    "    df/dx ~ (f(x+h) - f(x-h)) / 2h\n",
    "    Adopted from https://github.com/ddtm/dl-course/\n",
    "    \"\"\"\n",
    "    fx = f(x) # evaluate function value at original point\n",
    "    grad = np.zeros_like(x)\n",
    "    # iterate over all indexes in x\n",
    "    it = np.nditer(x, flags=['multi_index'], op_flags=['readwrite'])\n",
    "    while not it.finished:\n",
    "\n",
    "        # evaluate function at x+h\n",
    "        ix = it.multi_index\n",
    "        oldval = x[ix]\n",
    "        x[ix] = oldval + h # increment by h\n",
    "        fxph = f(x) # evalute f(x + h)\n",
    "        x[ix] = oldval - h\n",
    "        fxmh = f(x) # evaluate f(x - h)\n",
    "        x[ix] = oldval # restore\n",
    "\n",
    "        # compute the partial derivative with centered formula\n",
    "        grad[ix] = (fxph - fxmh) / (2 * h) # the slope\n",
    "        if verbose:\n",
    "            print (ix, grad[ix])\n",
    "        it.iternext() # step to next dimension\n",
    "\n",
    "    return grad"
   ]
  },
  {
   "cell_type": "markdown",
   "metadata": {},
   "source": [
    "Вычислите аналитический и численный градиенты по входу слоя ReLU от функции$$ f(y) = \\sum_i y_i, \\quad y = ReLU(x) $$\n",
    "\n",
    "Следующая ячейка после заполнения должна не выдавать ошибку :)"
   ]
  },
  {
   "cell_type": "code",
   "execution_count": 7,
   "metadata": {
    "ExecuteTime": {
     "end_time": "2020-09-29T10:28:05.923567Z",
     "start_time": "2020-09-29T10:28:05.914602Z"
    }
   },
   "outputs": [],
   "source": [
    "points = np.linspace(-1,1,10*12).reshape([10,12])\n",
    "l = ReLU()\n",
    "val = l.forward(points)\n",
    "grads = l.backward(np.ones([10,12]))\n",
    "numeric_grads = eval_numerical_gradient(lambda x: l.forward(x).sum(), x=points)\n",
    "assert np.allclose(grads[0], numeric_grads, rtol=1e-3, atol=0),\\\n",
    "    \"gradient returned by your layer does not match the numerically computed gradient\""
   ]
  },
  {
   "cell_type": "markdown",
   "metadata": {},
   "source": [
    "Вычислите аналитический и численный градиенты по входу полносвязного слоя от функции$$ f(y) = \\sum_i y_i, \\quad y = W x + b $$"
   ]
  },
  {
   "cell_type": "code",
   "execution_count": 17,
   "metadata": {
    "ExecuteTime": {
     "end_time": "2020-09-29T10:28:55.320281Z",
     "start_time": "2020-09-29T10:28:55.312303Z"
    },
    "colab": {},
    "colab_type": "code",
    "id": "0r0vZ1KY86kp"
   },
   "outputs": [],
   "source": [
    "x = np.linspace(-1, 1, 10*12).reshape([10, 12])\n",
    "l = Dense(12, 32,)\n",
    "val = l.forward(x)\n",
    "grads = l.backward(np.ones([10,32]))[0]\n",
    "numeric_grads = eval_numerical_gradient(lambda x: l.forward(x).sum(), x=points)\n",
    "assert np.allclose(grads, numeric_grads, rtol=1e-3, atol=0)"
   ]
  },
  {
   "cell_type": "markdown",
   "metadata": {
    "colab_type": "text",
    "id": "0dyhDg0D86kt"
   },
   "source": [
    "# Softmax"
   ]
  },
  {
   "cell_type": "markdown",
   "metadata": {
    "colab_type": "text",
    "id": "ArL0HLGH86ku"
   },
   "source": [
    "Реализация softmax-слоя и функции потерь\n",
    "Для решения задачи многоклассовой классификации обычно используют softmax в качестве нелинейности на последнем слое, чтобы получить вероятности классов для каждого объекта:$$\\hat y = softmax(x)  = \\bigl \\{\\frac {exp(x_i)}{\\sum_j exp(x_j)} \\bigr \\}_{i=1}^K, \\quad K - \\text{число классов}$$В этом случае удобно оптимизировать логарифм правдоподобия:$$L(y, \\hat y) = -\\sum_{i=1}^K y_i \\log \\hat y_i \\rightarrow \\min,$$где $y_i=1$, если объект принадлежит $i$-му классу, и 0 иначе. Записанная в таком виде, эта функция потерь совпадает с выражением для кросс-энтропии. Очевидно, что ее также можно переписать через индексацию, если через $y_i$ обозначить класс данного объекта:$$L(y, \\hat y) = - \\log \\hat y_{y_i} \\rightarrow \\min$$В таком виде ее удобно реализовывать.\n",
    "\n",
    "Реализуем слой Softmax (без параметров). Метод forward должен вычислять логарифм от softmax, а метод backward - пропускать градиенты. В общем случае в промежуточных вычислениях backward получится трехмерный тензор, однако для нашей конкретной функции потерь все вычисления можно реализовать в матричном виде. Поэтому мы будем предполагать, что аргумент grad_output - это матрица, у которой в каждой строке только одно ненулевое значение (не обязательно единица)."
   ]
  },
  {
   "cell_type": "code",
   "execution_count": 8,
   "metadata": {
    "ExecuteTime": {
     "end_time": "2020-09-29T20:16:52.197500Z",
     "start_time": "2020-09-29T20:16:52.193514Z"
    },
    "colab": {},
    "colab_type": "code",
    "id": "g27f9NI186ku"
   },
   "outputs": [],
   "source": [
    "from scipy.special import logsumexp, softmax\n",
    "# use this function instead of np.log(np.sum(np.exp(...))) !\n",
    "# because it is more stable"
   ]
  },
  {
   "cell_type": "code",
   "execution_count": 9,
   "metadata": {
    "ExecuteTime": {
     "end_time": "2020-09-29T20:17:06.765472Z",
     "start_time": "2020-09-29T20:17:06.758457Z"
    },
    "colab": {},
    "colab_type": "code",
    "id": "xSV3XD0N86ky"
   },
   "outputs": [],
   "source": [
    "class Softmax:\n",
    "    def __init__(self):\n",
    "        self.params = []\n",
    "        \n",
    "    def forward(self, input):\n",
    "        \"\"\"\n",
    "        Applies softmax to each row and then applies component-wise log\n",
    "        Input shape: [batch, num_units]\n",
    "        Output shape: [batch, num_units]\n",
    "        \"\"\"\n",
    "        self.n = input.shape[0]\n",
    "        self.m = input.shape[1]\n",
    "        self.str_max_input = input.max(axis=1).reshape(self.n,1)\n",
    "        y = input - self.str_max_input - logsumexp(input - self.str_max_input, axis=1).reshape(self.n, 1)\n",
    "        self.input = input\n",
    "        return y\n",
    "        \n",
    "    def backward(self, grad_output):\n",
    "        \"\"\"\n",
    "        Propagartes gradients.\n",
    "        Assumes that each row of grad_output contains only 1 \n",
    "        non-zero element\n",
    "        Input shape: [batch, num_units]\n",
    "        Output shape: [batch, num_units]\n",
    "        Do not forget to return [] as second value (grad w.r.t. params)\n",
    "        \"\"\"\n",
    "        grad_x = np.zeros((self.n, self.m))\n",
    "        i, j = np.where(grad_output==-1)\n",
    "        denom = np.exp(self.input - self.str_max_input).sum(axis=1)\n",
    "        grad_x = - np.exp(self.input - self.str_max_input)/denom.reshape(self.n,1)\n",
    "        grad_x[i,j] = 1 + grad_x[i,j]\n",
    "        return -grad_x, []"
   ]
  },
  {
   "cell_type": "markdown",
   "metadata": {
    "colab_type": "text",
    "id": "hyPPzkCI86k7"
   },
   "source": [
    "Реализуем функцию потерь и градиенты функции потерь."
   ]
  },
  {
   "cell_type": "code",
   "execution_count": 14,
   "metadata": {
    "ExecuteTime": {
     "end_time": "2020-09-29T13:52:04.923447Z",
     "start_time": "2020-09-29T13:52:04.917463Z"
    },
    "colab": {},
    "colab_type": "code",
    "id": "x0lUQZIN86k8"
   },
   "outputs": [],
   "source": [
    "def crossentropy(activations, target):\n",
    "    \"\"\"\n",
    "    returns negative log-likelihood of target under model represented by\n",
    "    activations (log probabilities of classes)\n",
    "    each arg has shape [batch, num_classes]\n",
    "    output shape: 1 (scalar)\n",
    "    \"\"\"\n",
    "    loss = -(target*activations).sum()\n",
    "    return loss \n",
    "    \n",
    "    \n",
    "\n",
    "def grad_crossentropy(activations, target):\n",
    "    \"\"\"\n",
    "    returns gradient of negative log-likelihood w.r.t. activations\n",
    "    each arg has shape [batch, num_classes]\n",
    "    output shape: [batch, num-classes]\n",
    "    \n",
    "    hint: this is just one-hot encoding of target vector\n",
    "          multiplied by -1\n",
    "    \"\"\"\n",
    "    return - target"
   ]
  },
  {
   "cell_type": "markdown",
   "metadata": {
    "colab_type": "text",
    "id": "2wLJgw1A86lB"
   },
   "source": [
    "# Загрузка данных\n",
    "Мы реализаовали все архитектурные составляющие нашей нейронной сети. Осталось загрузить данные и обучить модель. Мы будем работать с датасетом digits, каждый объект в котором - это 8x8 изображение рукописной цифры."
   ]
  },
  {
   "cell_type": "code",
   "execution_count": 15,
   "metadata": {
    "ExecuteTime": {
     "end_time": "2020-09-29T10:29:25.357478Z",
     "start_time": "2020-09-29T10:29:25.350520Z"
    },
    "colab": {},
    "colab_type": "code",
    "id": "OVJvVXXQ86lB"
   },
   "outputs": [],
   "source": [
    "import matplotlib.pyplot as plt\n",
    "%matplotlib inline"
   ]
  },
  {
   "cell_type": "code",
   "execution_count": 16,
   "metadata": {
    "ExecuteTime": {
     "end_time": "2020-09-29T10:29:25.706165Z",
     "start_time": "2020-09-29T10:29:25.701213Z"
    },
    "colab": {},
    "colab_type": "code",
    "id": "bz8eGZ3r86lF"
   },
   "outputs": [],
   "source": [
    "from sklearn.datasets import load_digits"
   ]
  },
  {
   "cell_type": "code",
   "execution_count": 17,
   "metadata": {
    "ExecuteTime": {
     "end_time": "2020-09-29T10:29:26.152010Z",
     "start_time": "2020-09-29T10:29:26.070193Z"
    },
    "colab": {},
    "colab_type": "code",
    "id": "3QnpueaU86lL"
   },
   "outputs": [],
   "source": [
    "X, y = load_digits(return_X_y=True)"
   ]
  },
  {
   "cell_type": "code",
   "execution_count": 18,
   "metadata": {
    "ExecuteTime": {
     "end_time": "2020-09-29T10:29:26.895754Z",
     "start_time": "2020-09-29T10:29:26.891789Z"
    }
   },
   "outputs": [
    {
     "data": {
      "text/plain": [
       "array([0, 1, 2, ..., 8, 9, 8])"
      ]
     },
     "execution_count": 18,
     "metadata": {},
     "output_type": "execute_result"
    }
   ],
   "source": [
    "y"
   ]
  },
  {
   "cell_type": "code",
   "execution_count": 19,
   "metadata": {
    "colab": {},
    "colab_type": "code",
    "id": "f596OpXk86lO"
   },
   "outputs": [],
   "source": [
    "### make one hot target"
   ]
  },
  {
   "cell_type": "code",
   "execution_count": 22,
   "metadata": {
    "ExecuteTime": {
     "end_time": "2020-09-29T12:12:42.651100Z",
     "start_time": "2020-09-29T12:12:42.645118Z"
    }
   },
   "outputs": [],
   "source": [
    "one_hot_y = np.zeros((y.size, y.max()+1))\n",
    "one_hot_y[np.arange(y.size),y] = 1\n",
    "one_hot_y = one_hot_y.astype('int')"
   ]
  },
  {
   "cell_type": "code",
   "execution_count": 23,
   "metadata": {},
   "outputs": [
    {
     "data": {
      "text/plain": [
       "((1797, 64), (1797, 10))"
      ]
     },
     "execution_count": 23,
     "metadata": {},
     "output_type": "execute_result"
    }
   ],
   "source": [
    "X.shape, one_hot_y.shape"
   ]
  },
  {
   "cell_type": "markdown",
   "metadata": {
    "colab_type": "text",
    "id": "WXyzDFMH86lW"
   },
   "source": [
    "Разделим данные на обучение и контроль:"
   ]
  },
  {
   "cell_type": "code",
   "execution_count": 24,
   "metadata": {
    "ExecuteTime": {
     "end_time": "2020-09-29T10:29:32.978297Z",
     "start_time": "2020-09-29T10:29:32.974314Z"
    },
    "colab": {},
    "colab_type": "code",
    "id": "4vYMOr0H86lW"
   },
   "outputs": [],
   "source": [
    "from sklearn.model_selection import train_test_split"
   ]
  },
  {
   "cell_type": "code",
   "execution_count": 25,
   "metadata": {
    "ExecuteTime": {
     "end_time": "2020-09-29T12:12:46.907735Z",
     "start_time": "2020-09-29T12:12:46.900705Z"
    },
    "colab": {},
    "colab_type": "code",
    "id": "k0nYXVTG86la"
   },
   "outputs": [],
   "source": [
    "X_train, X_test, y_train, y_test = train_test_split(X, target, random_state=0)"
   ]
  },
  {
   "cell_type": "code",
   "execution_count": 26,
   "metadata": {
    "ExecuteTime": {
     "end_time": "2020-09-29T12:12:47.620283Z",
     "start_time": "2020-09-29T12:12:47.614300Z"
    },
    "colab": {},
    "colab_type": "code",
    "id": "w-8Ee-d186ld"
   },
   "outputs": [
    {
     "data": {
      "text/plain": [
       "((1347, 64), (450, 64))"
      ]
     },
     "execution_count": 26,
     "metadata": {},
     "output_type": "execute_result"
    }
   ],
   "source": [
    "X_train.shape, X_test.shape"
   ]
  },
  {
   "cell_type": "code",
   "execution_count": 27,
   "metadata": {
    "ExecuteTime": {
     "end_time": "2020-09-29T12:12:48.236234Z",
     "start_time": "2020-09-29T12:12:48.229275Z"
    }
   },
   "outputs": [
    {
     "data": {
      "text/plain": [
       "((1347, 10), (450, 10))"
      ]
     },
     "execution_count": 27,
     "metadata": {},
     "output_type": "execute_result"
    }
   ],
   "source": [
    " y_train.shape, y_test.shape"
   ]
  },
  {
   "cell_type": "markdown",
   "metadata": {
    "colab_type": "text",
    "id": "kmzKDpyE86lg"
   },
   "source": [
    "# Сборка и обучение нейронной сети"
   ]
  },
  {
   "cell_type": "markdown",
   "metadata": {
    "colab_type": "text",
    "id": "mPqlZfj_86lg"
   },
   "source": [
    "В нашей реализации нейросеть - это список слоев. Например:"
   ]
  },
  {
   "cell_type": "code",
   "execution_count": 28,
   "metadata": {
    "ExecuteTime": {
     "end_time": "2020-09-29T16:20:49.636645Z",
     "start_time": "2020-09-29T16:20:49.631663Z"
    },
    "cellView": "both",
    "colab": {},
    "colab_type": "code",
    "id": "Sf2sNDJN86lh"
   },
   "outputs": [],
   "source": [
    "#@title\n",
    "network = []\n",
    "hidden_layers_size = 32\n",
    "network.append(Dense(X_train.shape[1], hidden_layers_size))\n",
    "network.append(ReLU())\n",
    "network.append(Dense(hidden_layers_size, hidden_layers_size))\n",
    "network.append(ReLU())\n",
    "network.append(Dense(hidden_layers_size, 10))\n",
    "network.append(Softmax())"
   ]
  },
  {
   "cell_type": "markdown",
   "metadata": {
    "colab_type": "text",
    "id": "ltomU8p886lk"
   },
   "source": [
    "Для проверки, хорошо ли сеть обучилась, нам понадобится вычислять точность (accuracy) на данной выборке. Для этого реализуем функцию, которая делает предсказания на каждом объекте:"
   ]
  },
  {
   "cell_type": "code",
   "execution_count": 29,
   "metadata": {
    "ExecuteTime": {
     "end_time": "2020-09-29T13:52:11.852919Z",
     "start_time": "2020-09-29T13:52:11.848912Z"
    },
    "colab": {},
    "colab_type": "code",
    "id": "SV6uAjR286ll"
   },
   "outputs": [],
   "source": [
    "def predict(network, X):\n",
    "    \"\"\"\n",
    "    returns predictions for each object in X\n",
    "    network: list of layers\n",
    "    X: raw data\n",
    "    X shape: [batch, features_num]\n",
    "    output: array of classes, each from 0 to 9\n",
    "    output shape: [batch]\n",
    "    \"\"\"\n",
    "    for layer in network:\n",
    "        val = layer.forward(X)\n",
    "        X = val\n",
    "    return val"
   ]
  },
  {
   "cell_type": "markdown",
   "metadata": {
    "colab_type": "text",
    "id": "h2nGs4Rq86lo"
   },
   "source": [
    "Мы будем обучать параметры нейросети с помощью готовой функции оптимизации из модуля scipy:"
   ]
  },
  {
   "cell_type": "code",
   "execution_count": 30,
   "metadata": {
    "ExecuteTime": {
     "end_time": "2020-09-29T10:29:43.455934Z",
     "start_time": "2020-09-29T10:29:43.451910Z"
    },
    "colab": {},
    "colab_type": "code",
    "id": "94lKImJt86lo"
   },
   "outputs": [],
   "source": [
    "from scipy.optimize import minimize"
   ]
  },
  {
   "cell_type": "markdown",
   "metadata": {
    "colab_type": "text",
    "id": "m-ffcJkz86lw"
   },
   "source": [
    "\n",
    "Эта функция имеет стандартный интерфейс: нужно передать callable объект, который вычисляет значение и градиент целевой функции, а также точку старта оптимизации - начальное приближение (одномерный numpy-массив). Поэтому нам понадобятся функции для сбора и задания всех весов нашей нейросети (именно для них мы всегда записывали параметры слоя в список layer.params)"
   ]
  },
  {
   "cell_type": "code",
   "execution_count": 31,
   "metadata": {
    "ExecuteTime": {
     "end_time": "2020-09-29T10:29:46.249321Z",
     "start_time": "2020-09-29T10:29:46.241381Z"
    },
    "colab": {},
    "colab_type": "code",
    "id": "8tm-JrYb86lw"
   },
   "outputs": [],
   "source": [
    "def get_weights(network):\n",
    "    weights = []\n",
    "    for layer in network:\n",
    "        for param in layer.params:\n",
    "            weights += param.ravel().tolist()\n",
    "    return np.array(weights)\n",
    "\n",
    "def set_weights(weights, network):\n",
    "    i = 0\n",
    "    for layer in network:\n",
    "        for param in layer.params:\n",
    "            l = param.size\n",
    "            param[:] = weights[i:i+l].\\\n",
    "                             reshape(param.shape)\n",
    "            i += l"
   ]
  },
  {
   "cell_type": "markdown",
   "metadata": {
    "colab_type": "text",
    "id": "2uNWIOxe86lz"
   },
   "source": [
    "Реализуем ту самую функцию, которую будем передавать в minimize. Эта функция должна брать на вход текущую точку (вектор всех параметров), а также список дополнительных параметров (мы будем передавать через них нашу сеть и обучающие данные) и возвращать значение критерия качества (кросс-энтропия) и его градиент по параметрам модели."
   ]
  },
  {
   "cell_type": "code",
   "execution_count": 32,
   "metadata": {
    "ExecuteTime": {
     "end_time": "2020-09-29T16:20:54.078475Z",
     "start_time": "2020-09-29T16:20:54.071464Z"
    },
    "colab": {},
    "colab_type": "code",
    "id": "5iq4nkWu86l0"
   },
   "outputs": [],
   "source": [
    "def compute_loss_grad(weights, args):\n",
    "    \"\"\"\n",
    "    takes current weights and computes cross-entropy and gradients\n",
    "    weights shape: [num_parameters]\n",
    "    output 1: loss (scalar)\n",
    "    output 2: gradint w.r.t. weights, shape: [num_parameters]\n",
    "    \n",
    "    hint: firstly perform forward pass through the whole network\n",
    "    then compute loss and its gradients\n",
    "    then perform backward pass, transmitting first baskward output\n",
    "    to the previos layer and saving second backward output in a list\n",
    "    finally flatten all the gradients in this list\n",
    "    (in the order from the first to the last layer)\n",
    "    \n",
    "    Do not forget to set weights of the network!\n",
    "    \"\"\"\n",
    "    network, X, y = args\n",
    "    set_weights(weights, network)\n",
    "    val = predict(network, X)\n",
    "    loss = crossentropy(val, y)\n",
    "    grad_loss = grad_crossentropy(val, y)\n",
    "    grad_param = []\n",
    "    for layer in list(reversed(network)):\n",
    "        cur_grad = layer.backward(grad_loss)\n",
    "        if cur_grad[1] != []:\n",
    "            grad_param.append(cur_grad[1])\n",
    "        grad_loss = cur_grad[0]\n",
    "    grad_param = reversed(grad_param)\n",
    "    v = np.array([])\n",
    "    for item in grad_param:\n",
    "        v = np.r_[v, item]\n",
    "    return loss, v"
   ]
  },
  {
   "cell_type": "markdown",
   "metadata": {
    "colab_type": "text",
    "id": "GHJmt1pD86l3"
   },
   "source": [
    "Теперь мы готовы обучать нашу нейросеть."
   ]
  },
  {
   "cell_type": "code",
   "execution_count": 33,
   "metadata": {
    "ExecuteTime": {
     "end_time": "2020-09-29T15:56:11.959485Z",
     "start_time": "2020-09-29T15:56:11.955495Z"
    },
    "colab": {},
    "colab_type": "code",
    "id": "Lb_t8iaz86l3"
   },
   "outputs": [],
   "source": [
    "weights = get_weights(network)"
   ]
  },
  {
   "cell_type": "code",
   "execution_count": 34,
   "metadata": {
    "ExecuteTime": {
     "end_time": "2020-09-29T16:21:04.464492Z",
     "start_time": "2020-09-29T16:21:00.522026Z"
    },
    "colab": {},
    "colab_type": "code",
    "id": "XTYD1r2P86l7"
   },
   "outputs": [
    {
     "name": "stderr",
     "output_type": "stream",
     "text": [
      "<ipython-input-32-ba41149ed0c0>:25: DeprecationWarning: elementwise comparison failed; this will raise an error in the future.\n",
      "  if cur_grad[1] != []:\n"
     ]
    }
   ],
   "source": [
    "res = minimize(compute_loss_grad, weights,  # fun and start point\n",
    "               args=[network, X_train, y_train], # args passed to fun\n",
    "               method=\"L-BFGS-B\", # optimization method\n",
    "               jac=True) # says that gradient are computed in fun"
   ]
  },
  {
   "cell_type": "code",
   "execution_count": 35,
   "metadata": {
    "ExecuteTime": {
     "end_time": "2020-09-29T16:21:09.007808Z",
     "start_time": "2020-09-29T16:21:09.002853Z"
    },
    "colab": {},
    "colab_type": "code",
    "id": "9PP9pI3G86l_"
   },
   "outputs": [
    {
     "data": {
      "text/plain": [
       "dict_keys(['fun', 'jac', 'nfev', 'njev', 'nit', 'status', 'message', 'x', 'success', 'hess_inv'])"
      ]
     },
     "execution_count": 35,
     "metadata": {},
     "output_type": "execute_result"
    }
   ],
   "source": [
    "res.keys()"
   ]
  },
  {
   "cell_type": "code",
   "execution_count": 36,
   "metadata": {
    "ExecuteTime": {
     "end_time": "2020-09-29T16:21:09.523101Z",
     "start_time": "2020-09-29T16:21:09.518078Z"
    },
    "colab": {},
    "colab_type": "code",
    "id": "b_4bFVQp86mC"
   },
   "outputs": [
    {
     "data": {
      "text/plain": [
       "185"
      ]
     },
     "execution_count": 36,
     "metadata": {},
     "output_type": "execute_result"
    }
   ],
   "source": [
    "res[\"nit\"] # number of iterations (should be >> 10)"
   ]
  },
  {
   "cell_type": "code",
   "execution_count": 37,
   "metadata": {
    "ExecuteTime": {
     "end_time": "2020-09-29T16:21:10.228606Z",
     "start_time": "2020-09-29T16:21:10.224632Z"
    },
    "colab": {},
    "colab_type": "code",
    "id": "3IL7UoCx86mE"
   },
   "outputs": [
    {
     "data": {
      "text/plain": [
       "True"
      ]
     },
     "execution_count": 37,
     "metadata": {},
     "output_type": "execute_result"
    }
   ],
   "source": [
    "res[\"success\"] # should be True"
   ]
  },
  {
   "cell_type": "code",
   "execution_count": 38,
   "metadata": {
    "ExecuteTime": {
     "end_time": "2020-09-29T16:21:11.351300Z",
     "start_time": "2020-09-29T16:21:11.344355Z"
    },
    "colab": {},
    "colab_type": "code",
    "id": "djipcHJ786mH"
   },
   "outputs": [
    {
     "data": {
      "text/plain": [
       "array([-2.94619868e-03, -1.88090805e-03,  8.02784727e-03, ...,\n",
       "       -1.09178339e+00, -2.66342375e+00, -5.76350405e-01])"
      ]
     },
     "execution_count": 38,
     "metadata": {},
     "output_type": "execute_result"
    }
   ],
   "source": [
    "res[\"x\"] # leraned weights"
   ]
  },
  {
   "cell_type": "code",
   "execution_count": 39,
   "metadata": {
    "ExecuteTime": {
     "end_time": "2020-09-29T16:21:14.179645Z",
     "start_time": "2020-09-29T16:21:14.173658Z"
    }
   },
   "outputs": [
    {
     "data": {
      "text/plain": [
       "(3466,)"
      ]
     },
     "execution_count": 39,
     "metadata": {},
     "output_type": "execute_result"
    }
   ],
   "source": [
    "res['x'].shape"
   ]
  },
  {
   "cell_type": "markdown",
   "metadata": {
    "colab_type": "text",
    "id": "sxF7dSlv86mK"
   },
   "source": [
    "Выведем качество на обучении (X_train, y_train) и на контроле (X_test, y_test)."
   ]
  },
  {
   "cell_type": "code",
   "execution_count": 40,
   "metadata": {
    "ExecuteTime": {
     "end_time": "2020-09-29T17:09:32.831767Z",
     "start_time": "2020-09-29T17:09:32.826776Z"
    }
   },
   "outputs": [],
   "source": [
    "def accuracy(network, X, y):\n",
    "    index = np.argmax(predict(network, X), axis=1) \n",
    "    pred = np.zeros(y.shape)\n",
    "    size = y.shape[0]\n",
    "    pred[np.arange(size),index] = 1\n",
    "    pred = pred.astype('int') \n",
    "    count = 0\n",
    "    for i in range(size):\n",
    "        count += pred[i].dot(y[i])\n",
    "    return count/size"
   ]
  },
  {
   "cell_type": "markdown",
   "metadata": {},
   "source": [
    "Качество на (X_train, y_train)"
   ]
  },
  {
   "cell_type": "code",
   "execution_count": 41,
   "metadata": {
    "ExecuteTime": {
     "end_time": "2020-09-29T17:00:59.376268Z",
     "start_time": "2020-09-29T17:00:59.362342Z"
    }
   },
   "outputs": [
    {
     "data": {
      "text/plain": [
       "1.0"
      ]
     },
     "execution_count": 41,
     "metadata": {},
     "output_type": "execute_result"
    }
   ],
   "source": [
    "accuracy(network, X_train, y_train)"
   ]
  },
  {
   "cell_type": "markdown",
   "metadata": {},
   "source": [
    "Качество на (X_test, y_test)"
   ]
  },
  {
   "cell_type": "code",
   "execution_count": 42,
   "metadata": {
    "ExecuteTime": {
     "end_time": "2020-09-29T17:09:46.761998Z",
     "start_time": "2020-09-29T17:09:46.753057Z"
    }
   },
   "outputs": [
    {
     "data": {
      "text/plain": [
       "0.94"
      ]
     },
     "execution_count": 42,
     "metadata": {},
     "output_type": "execute_result"
    }
   ],
   "source": [
    "accuracy(network, X_test, y_test)"
   ]
  },
  {
   "cell_type": "markdown",
   "metadata": {
    "colab_type": "text",
    "id": "lzuOHEPY86mO"
   },
   "source": [
    "У minimize есть также аргумент callback - в нее можно передать функцию, которая будет вызываться после каждой итерации оптимизации. Такую функцию удобно оформить в виде метода класса, который будет сохранять качество на обучении контроле после каждой итерации. Реализуем этот метод в классе Callback:"
   ]
  },
  {
   "cell_type": "code",
   "execution_count": 43,
   "metadata": {
    "ExecuteTime": {
     "end_time": "2020-09-29T17:40:31.350686Z",
     "start_time": "2020-09-29T17:40:31.340745Z"
    },
    "colab": {},
    "colab_type": "code",
    "id": "BWx3rls786mP"
   },
   "outputs": [],
   "source": [
    "class Callback:\n",
    "    def __init__(self, network, X_train, y_train, X_test, y_test, print=False):\n",
    "        self.network = network\n",
    "        self.X_train = X_train\n",
    "        self.X_test = X_test\n",
    "        self.y_train = y_train\n",
    "        self.y_test = y_test\n",
    "        self.print = print\n",
    "        self.train_acc = []\n",
    "        self.test_acc = []\n",
    "        \n",
    "    def call(self, weights):\n",
    "        \"\"\"\n",
    "        computes quality on train and test set with given weights\n",
    "        and saves to self.train_acc and self.test_acc\n",
    "        if self.print is True, also prints these 2 values\n",
    "        \"\"\"\n",
    "        set_weights(weights, self.network)\n",
    "        train = accuracy(self.network, self.X_train, self.y_train)\n",
    "        test = accuracy(self.network, self.X_test, self.y_test)\n",
    "        self.train_acc.append(train)\n",
    "        self.test_acc.append(test)\n",
    "        if self.print:\n",
    "            print('Train:', train)\n",
    "            print('Test:', test)           "
   ]
  },
  {
   "cell_type": "code",
   "execution_count": 44,
   "metadata": {
    "ExecuteTime": {
     "end_time": "2020-09-29T17:40:37.930164Z",
     "start_time": "2020-09-29T17:40:33.485041Z"
    },
    "colab": {},
    "colab_type": "code",
    "id": "Omd3wRNE86mS"
   },
   "outputs": [
    {
     "name": "stderr",
     "output_type": "stream",
     "text": [
      "<ipython-input-32-ba41149ed0c0>:25: DeprecationWarning: elementwise comparison failed; this will raise an error in the future.\n",
      "  if cur_grad[1] != []:\n"
     ]
    },
    {
     "name": "stdout",
     "output_type": "stream",
     "text": [
      "Train: 0.10616184112843356\n",
      "Test: 0.08444444444444445\n",
      "Train: 0.24870081662954716\n",
      "Test: 0.21777777777777776\n",
      "Train: 0.2524127691165553\n",
      "Test: 0.2222222222222222\n",
      "Train: 0.23459539717891612\n",
      "Test: 0.24444444444444444\n",
      "Train: 0.2212323682256867\n",
      "Test: 0.23555555555555555\n",
      "Train: 0.25686711210096513\n",
      "Test: 0.28\n",
      "Train: 0.40014847809948034\n",
      "Test: 0.4\n",
      "Train: 0.38530066815144765\n",
      "Test: 0.35555555555555557\n",
      "Train: 0.4610244988864143\n",
      "Test: 0.44666666666666666\n",
      "Train: 0.5330363771343727\n",
      "Test: 0.5511111111111111\n",
      "Train: 0.5293244246473645\n",
      "Test: 0.5422222222222223\n",
      "Train: 0.5649591685226429\n",
      "Test: 0.5733333333333334\n",
      "Train: 0.5419450631031922\n",
      "Test: 0.5311111111111111\n",
      "Train: 0.6117297698589458\n",
      "Test: 0.6044444444444445\n",
      "Train: 0.6310319227913883\n",
      "Test: 0.6177777777777778\n",
      "Train: 0.7030438010393467\n",
      "Test: 0.68\n",
      "Train: 0.6533036377134372\n",
      "Test: 0.6555555555555556\n",
      "Train: 0.7260579064587973\n",
      "Test: 0.6755555555555556\n",
      "Train: 0.7498144023756496\n",
      "Test: 0.7044444444444444\n",
      "Train: 0.7557535263548627\n",
      "Test: 0.7288888888888889\n",
      "Train: 0.7824795842613215\n",
      "Test: 0.7733333333333333\n",
      "Train: 0.7861915367483296\n",
      "Test: 0.76\n",
      "Train: 0.7899034892353378\n",
      "Test: 0.7733333333333333\n",
      "Train: 0.7906458797327395\n",
      "Test: 0.7733333333333333\n",
      "Train: 0.791388270230141\n",
      "Test: 0.7844444444444445\n",
      "Train: 0.8099480326651819\n",
      "Test: 0.8022222222222222\n",
      "Train: 0.8262806236080178\n",
      "Test: 0.82\n",
      "Train: 0.8337045285820341\n",
      "Test: 0.8488888888888889\n",
      "Train: 0.8389012620638456\n",
      "Test: 0.8577777777777778\n",
      "Train: 0.8559762435040832\n",
      "Test: 0.8533333333333334\n",
      "Train: 0.8596881959910914\n",
      "Test: 0.8577777777777778\n",
      "Train: 0.8596881959910914\n",
      "Test: 0.8577777777777778\n",
      "Train: 0.8604305864884929\n",
      "Test: 0.8533333333333334\n",
      "Train: 0.8671121009651076\n",
      "Test: 0.8622222222222222\n",
      "Train: 0.8693392724573126\n",
      "Test: 0.8755555555555555\n",
      "Train: 0.8849294729027468\n",
      "Test: 0.8888888888888888\n",
      "Train: 0.8938381588715665\n",
      "Test: 0.8888888888888888\n",
      "Train: 0.8990348923533779\n",
      "Test: 0.8977777777777778\n",
      "Train: 0.8990348923533779\n",
      "Test: 0.8977777777777778\n",
      "Train: 0.9034892353377877\n",
      "Test: 0.9\n",
      "Train: 0.9005196733481812\n",
      "Test: 0.8977777777777778\n",
      "Train: 0.902746844840386\n",
      "Test: 0.8977777777777778\n",
      "Train: 0.9131403118040089\n",
      "Test: 0.9022222222222223\n",
      "Train: 0.9153674832962138\n",
      "Test: 0.9088888888888889\n",
      "Train: 0.9198218262806236\n",
      "Test: 0.9\n",
      "Train: 0.9220489977728286\n",
      "Test: 0.9\n",
      "Train: 0.9183370452858204\n",
      "Test: 0.9088888888888889\n",
      "Train: 0.9220489977728286\n",
      "Test: 0.9022222222222223\n",
      "Train: 0.9279881217520416\n",
      "Test: 0.9022222222222223\n",
      "Train: 0.9361544172234595\n",
      "Test: 0.9111111111111111\n",
      "Train: 0.9302152932442465\n",
      "Test: 0.9155555555555556\n",
      "Train: 0.947290274684484\n",
      "Test: 0.9244444444444444\n",
      "Train: 0.947290274684484\n",
      "Test: 0.92\n",
      "Train: 0.9487750556792873\n",
      "Test: 0.92\n",
      "Train: 0.9480326651818857\n",
      "Test: 0.9177777777777778\n",
      "Train: 0.9487750556792873\n",
      "Test: 0.9288888888888889\n",
      "Train: 0.9517446176688938\n",
      "Test: 0.9333333333333333\n",
      "Train: 0.9517446176688938\n",
      "Test: 0.9311111111111111\n",
      "Train: 0.9547141796585004\n",
      "Test: 0.9333333333333333\n",
      "Train: 0.9547141796585004\n",
      "Test: 0.9422222222222222\n",
      "Train: 0.9569413511507052\n",
      "Test: 0.9444444444444444\n",
      "Train: 0.9599109131403119\n",
      "Test: 0.9444444444444444\n",
      "Train: 0.9591685226429102\n",
      "Test: 0.9488888888888889\n",
      "Train: 0.9569413511507052\n",
      "Test: 0.9555555555555556\n",
      "Train: 0.9606533036377134\n",
      "Test: 0.9466666666666667\n",
      "Train: 0.9643652561247216\n",
      "Test: 0.9466666666666667\n",
      "Train: 0.9673348181143281\n",
      "Test: 0.9422222222222222\n",
      "Train: 0.9665924276169265\n",
      "Test: 0.9511111111111111\n",
      "Train: 0.9673348181143281\n",
      "Test: 0.9533333333333334\n",
      "Train: 0.9695619896065331\n",
      "Test: 0.9511111111111111\n",
      "Train: 0.9695619896065331\n",
      "Test: 0.9488888888888889\n",
      "Train: 0.9710467706013363\n",
      "Test: 0.9488888888888889\n",
      "Train: 0.9695619896065331\n",
      "Test: 0.9488888888888889\n",
      "Train: 0.9732739420935412\n",
      "Test: 0.9488888888888889\n",
      "Train: 0.9784706755753526\n",
      "Test: 0.9444444444444444\n",
      "Train: 0.9792130660727543\n",
      "Test: 0.9511111111111111\n",
      "Train: 0.9821826280623608\n",
      "Test: 0.9577777777777777\n",
      "Train: 0.985894580549369\n",
      "Test: 0.9533333333333334\n",
      "Train: 0.9851521900519673\n",
      "Test: 0.9577777777777777\n",
      "Train: 0.9821826280623608\n",
      "Test: 0.9555555555555556\n",
      "Train: 0.9829250185597624\n",
      "Test: 0.9533333333333334\n",
      "Train: 0.9851521900519673\n",
      "Test: 0.9511111111111111\n",
      "Train: 0.9851521900519673\n",
      "Test: 0.9511111111111111\n",
      "Train: 0.9851521900519673\n",
      "Test: 0.9533333333333334\n",
      "Train: 0.9866369710467706\n",
      "Test: 0.9533333333333334\n",
      "Train: 0.9873793615441723\n",
      "Test: 0.9511111111111111\n",
      "Train: 0.985894580549369\n",
      "Test: 0.9555555555555556\n",
      "Train: 0.9881217520415738\n",
      "Test: 0.9533333333333334\n",
      "Train: 0.9866369710467706\n",
      "Test: 0.9533333333333334\n",
      "Train: 0.9903489235337788\n",
      "Test: 0.9533333333333334\n",
      "Train: 0.9910913140311804\n",
      "Test: 0.96\n",
      "Train: 0.991833704528582\n",
      "Test: 0.9622222222222222\n",
      "Train: 0.9925760950259837\n",
      "Test: 0.9577777777777777\n",
      "Train: 0.9925760950259837\n",
      "Test: 0.9555555555555556\n",
      "Train: 0.994060876020787\n",
      "Test: 0.9555555555555556\n",
      "Train: 0.9970304380103935\n",
      "Test: 0.9555555555555556\n",
      "Train: 0.9970304380103935\n",
      "Test: 0.9466666666666667\n",
      "Train: 0.9985152190051967\n",
      "Test: 0.9466666666666667\n",
      "Train: 0.9985152190051967\n",
      "Test: 0.9466666666666667\n",
      "Train: 0.9985152190051967\n",
      "Test: 0.9511111111111111\n",
      "Train: 0.9985152190051967\n",
      "Test: 0.9488888888888889\n",
      "Train: 0.9985152190051967\n",
      "Test: 0.9488888888888889\n",
      "Train: 0.9985152190051967\n",
      "Test: 0.9466666666666667\n",
      "Train: 0.9992576095025983\n",
      "Test: 0.9511111111111111\n",
      "Train: 0.9992576095025983\n",
      "Test: 0.9466666666666667\n",
      "Train: 0.9977728285077951\n",
      "Test: 0.9466666666666667\n",
      "Train: 0.9992576095025983\n",
      "Test: 0.9444444444444444\n",
      "Train: 0.9992576095025983\n",
      "Test: 0.9444444444444444\n",
      "Train: 0.9992576095025983\n",
      "Test: 0.9422222222222222\n",
      "Train: 0.9992576095025983\n",
      "Test: 0.9422222222222222\n",
      "Train: 0.9992576095025983\n",
      "Test: 0.9444444444444444\n",
      "Train: 0.9992576095025983\n",
      "Test: 0.9444444444444444\n",
      "Train: 1.0\n",
      "Test: 0.9466666666666667\n",
      "Train: 0.9992576095025983\n",
      "Test: 0.9466666666666667\n",
      "Train: 1.0\n",
      "Test: 0.9488888888888889\n",
      "Train: 1.0\n",
      "Test: 0.9511111111111111\n",
      "Train: 1.0\n",
      "Test: 0.9511111111111111\n",
      "Train: 1.0\n",
      "Test: 0.9466666666666667\n",
      "Train: 1.0\n",
      "Test: 0.9466666666666667\n",
      "Train: 1.0\n",
      "Test: 0.9422222222222222\n",
      "Train: 1.0\n",
      "Test: 0.9377777777777778\n",
      "Train: 1.0\n",
      "Test: 0.9422222222222222\n",
      "Train: 1.0\n",
      "Test: 0.9422222222222222\n",
      "Train: 1.0\n",
      "Test: 0.94\n",
      "Train: 1.0\n",
      "Test: 0.9377777777777778\n",
      "Train: 1.0\n",
      "Test: 0.9377777777777778\n",
      "Train: 1.0\n",
      "Test: 0.94\n",
      "Train: 1.0\n",
      "Test: 0.9355555555555556\n",
      "Train: 1.0\n",
      "Test: 0.9355555555555556\n",
      "Train: 1.0\n",
      "Test: 0.9355555555555556\n",
      "Train: 1.0\n",
      "Test: 0.9377777777777778\n",
      "Train: 1.0\n",
      "Test: 0.9377777777777778\n",
      "Train: 1.0\n",
      "Test: 0.9377777777777778\n",
      "Train: 1.0\n",
      "Test: 0.9355555555555556\n",
      "Train: 1.0\n",
      "Test: 0.9355555555555556\n",
      "Train: 1.0\n",
      "Test: 0.9333333333333333\n",
      "Train: 1.0\n",
      "Test: 0.9333333333333333\n",
      "Train: 1.0\n",
      "Test: 0.9311111111111111\n",
      "Train: 1.0\n",
      "Test: 0.9311111111111111\n",
      "Train: 1.0\n",
      "Test: 0.9311111111111111\n",
      "Train: 1.0\n",
      "Test: 0.9288888888888889\n",
      "Train: 1.0\n",
      "Test: 0.9311111111111111\n",
      "Train: 1.0\n",
      "Test: 0.9311111111111111\n",
      "Train: 1.0\n",
      "Test: 0.9311111111111111\n",
      "Train: 1.0\n",
      "Test: 0.9333333333333333\n",
      "Train: 1.0\n",
      "Test: 0.9333333333333333\n",
      "Train: 1.0\n",
      "Test: 0.9355555555555556\n",
      "Train: 1.0\n",
      "Test: 0.9355555555555556\n",
      "Train: 1.0\n",
      "Test: 0.9355555555555556\n",
      "Train: 1.0\n",
      "Test: 0.9355555555555556\n",
      "Train: 1.0\n",
      "Test: 0.9355555555555556\n",
      "Train: 1.0\n",
      "Test: 0.9377777777777778\n",
      "Train: 1.0\n",
      "Test: 0.9377777777777778\n",
      "Train: 1.0\n",
      "Test: 0.9377777777777778\n",
      "Train: 1.0\n",
      "Test: 0.9377777777777778\n",
      "Train: 1.0\n",
      "Test: 0.9377777777777778\n",
      "Train: 1.0\n",
      "Test: 0.9377777777777778\n",
      "Train: 1.0\n",
      "Test: 0.9377777777777778\n",
      "Train: 1.0\n",
      "Test: 0.9377777777777778\n",
      "Train: 1.0\n",
      "Test: 0.9377777777777778\n",
      "Train: 1.0\n",
      "Test: 0.9377777777777778\n",
      "Train: 1.0\n",
      "Test: 0.94\n",
      "Train: 1.0\n",
      "Test: 0.94\n",
      "Train: 1.0\n",
      "Test: 0.9422222222222222\n",
      "Train: 1.0\n",
      "Test: 0.9422222222222222\n",
      "Train: 1.0\n",
      "Test: 0.9422222222222222\n",
      "Train: 1.0\n",
      "Test: 0.9444444444444444\n",
      "Train: 1.0\n",
      "Test: 0.9444444444444444\n",
      "Train: 1.0\n",
      "Test: 0.9444444444444444\n",
      "Train: 1.0\n",
      "Test: 0.9444444444444444\n",
      "Train: 1.0\n",
      "Test: 0.9444444444444444\n",
      "Train: 1.0\n",
      "Test: 0.9444444444444444\n",
      "Train: 1.0\n",
      "Test: 0.9422222222222222\n",
      "Train: 1.0\n",
      "Test: 0.9422222222222222\n",
      "Train: 1.0\n",
      "Test: 0.9422222222222222\n",
      "Train: 1.0\n",
      "Test: 0.9422222222222222\n",
      "Train: 1.0\n",
      "Test: 0.9422222222222222\n",
      "Train: 1.0\n",
      "Test: 0.94\n",
      "Train: 1.0\n",
      "Test: 0.94\n",
      "Train: 1.0\n",
      "Test: 0.94\n",
      "Train: 1.0\n",
      "Test: 0.94\n",
      "Train: 1.0\n",
      "Test: 0.94\n",
      "Train: 1.0\n",
      "Test: 0.94\n",
      "Train: 1.0\n",
      "Test: 0.94\n",
      "Train: 1.0\n",
      "Test: 0.94\n"
     ]
    }
   ],
   "source": [
    "cb = Callback(network, X_train, y_train, X_test, y_test, print=True)\n",
    "res = minimize(compute_loss_grad, weights,  \n",
    "               args=[network, X_train, y_train], \n",
    "               method=\"L-BFGS-B\",\n",
    "               jac=True,\n",
    "               callback=cb.call)"
   ]
  },
  {
   "cell_type": "markdown",
   "metadata": {
    "colab_type": "text",
    "id": "40YCwfWI86mV"
   },
   "source": [
    "Изобразим на графике кривую качества на обучени и контроле по итерациям:"
   ]
  },
  {
   "cell_type": "code",
   "execution_count": 45,
   "metadata": {
    "ExecuteTime": {
     "end_time": "2020-09-29T20:29:04.019828Z",
     "start_time": "2020-09-29T20:29:03.866236Z"
    },
    "colab": {},
    "colab_type": "code",
    "id": "qSXra9Ub86mV"
   },
   "outputs": [
    {
     "data": {
      "text/plain": [
       "<matplotlib.legend.Legend at 0x2449247ad60>"
      ]
     },
     "execution_count": 45,
     "metadata": {},
     "output_type": "execute_result"
    },
    {
     "data": {
      "image/png": "[encoded data removed]",
      "text/plain": [
       "<Figure size 432x288 with 1 Axes>"
      ]
     },
     "metadata": {
      "needs_background": "light"
     },
     "output_type": "display_data"
    }
   ],
   "source": [
    "plt.plot(cb.train_acc, label=\"train acc\")\n",
    "plt.plot(cb.test_acc, label=\"test acc\")\n",
    "plt.xlabel(\"Iteration\")\n",
    "plt.ylabel(\"Accuracy\")\n",
    "plt.legend()"
   ]
  },
  {
   "cell_type": "markdown",
   "metadata": {
    "colab": {},
    "colab_type": "code",
    "id": "keGygn6X86mY"
   },
   "source": [
    "## Эксперименты с числом слоев"
   ]
  },
  {
   "cell_type": "markdown",
   "metadata": {
    "colab": {},
    "colab_type": "code",
    "id": "-HqHg3bD86mc"
   },
   "source": [
    "Ясно, что из-за случайного начального приближения с каждым запуском обучения мы будем получать различное качество. Попробуем обучать нашу нейросеть с разным числом слоев несколько раз.\n",
    "\n",
    "Заполним матрицы accs_train и accs_test. В позиции [i, j] должна стоять величина точности сети с $i+1$ полносвязными слоями при $j$-м запуске (все запуски идентичны)."
   ]
  },
  {
   "cell_type": "code",
   "execution_count": 53,
   "metadata": {
    "ExecuteTime": {
     "end_time": "2020-09-29T19:47:18.444291Z",
     "start_time": "2020-09-29T19:47:18.440373Z"
    },
    "colab": {},
    "colab_type": "code",
    "id": "tyx-Jf8R86mg"
   },
   "outputs": [],
   "source": [
    "accs_test = np.zeros((5, 5))\n",
    "accs_train = np.zeros((5, 5))"
   ]
  },
  {
   "cell_type": "code",
   "execution_count": 60,
   "metadata": {
    "ExecuteTime": {
     "end_time": "2020-09-29T20:03:36.178098Z",
     "start_time": "2020-09-29T20:01:11.835015Z"
    },
    "colab": {},
    "colab_type": "code",
    "id": "uC_ygVJV86mj"
   },
   "outputs": [
    {
     "name": "stderr",
     "output_type": "stream",
     "text": [
      "<ipython-input-32-ba41149ed0c0>:25: DeprecationWarning: elementwise comparison failed; this will raise an error in the future.\n",
      "  if cur_grad[1] != []:\n"
     ]
    }
   ],
   "source": [
    "for j in range(5):\n",
    "    networks = []\n",
    "    network1 = []\n",
    "    hidden_layers_size = 32\n",
    "    network1.append(Dense(X_train.shape[1], 10))\n",
    "    network1.append(Softmax())\n",
    "    networks.append(network1)\n",
    "\n",
    "    network2 = []\n",
    "    network2.append(Dense(X_train.shape[1], hidden_layers_size))\n",
    "    network2.append(ReLU())\n",
    "    network2.append(Dense(hidden_layers_size, 10))\n",
    "    network2.append(Softmax())\n",
    "    networks.append(network2)\n",
    "\n",
    "    network3 = []\n",
    "    network3.append(Dense(X_train.shape[1], hidden_layers_size))\n",
    "    network3.append(ReLU())\n",
    "    network3.append(Dense(hidden_layers_size, hidden_layers_size))\n",
    "    network3.append(ReLU())\n",
    "    network3.append(Dense(hidden_layers_size, 10))\n",
    "    network3.append(Softmax())\n",
    "    networks.append(network3)\n",
    "\n",
    "    network4 = []\n",
    "    network4.append(Dense(X_train.shape[1], hidden_layers_size))\n",
    "    network4.append(ReLU())\n",
    "    network4.append(Dense(hidden_layers_size, hidden_layers_size))\n",
    "    network4.append(ReLU())\n",
    "    network4.append(Dense(hidden_layers_size, hidden_layers_size))\n",
    "    network4.append(ReLU())\n",
    "    network4.append(Dense(hidden_layers_size, 10))\n",
    "    network4.append(Softmax())\n",
    "    networks.append(network4)\n",
    "\n",
    "    network5 = []\n",
    "    network5.append(Dense(X_train.shape[1], hidden_layers_size))\n",
    "    network5.append(ReLU())\n",
    "    network5.append(Dense(hidden_layers_size, hidden_layers_size))\n",
    "    network5.append(ReLU())\n",
    "    network5.append(Dense(hidden_layers_size, hidden_layers_size))\n",
    "    network5.append(ReLU())\n",
    "    network5.append(Dense(hidden_layers_size, hidden_layers_size))\n",
    "    network5.append(ReLU())\n",
    "    network5.append(Dense(hidden_layers_size, 10))\n",
    "    network5.append(Softmax())\n",
    "    networks.append(network5)\n",
    "    for i in range(5):\n",
    "        cb = Callback(networks[i], X_train, y_train, X_test, y_test, print=False)\n",
    "        weights = get_weights(networks[i])\n",
    "        res = minimize(compute_loss_grad, weights,\n",
    "                       args=[networks[i], X_train, y_train],\n",
    "                       method=\"L-BFGS-B\",\n",
    "                       jac=True,\n",
    "                       callback=cb.call)\n",
    "        accs_train[i,j] = cb.train_acc[-1]\n",
    "        accs_test[i,j] = cb.test_acc[-1]"
   ]
  },
  {
   "cell_type": "code",
   "execution_count": 61,
   "metadata": {
    "ExecuteTime": {
     "end_time": "2020-09-29T20:03:46.822998Z",
     "start_time": "2020-09-29T20:03:46.815021Z"
    }
   },
   "outputs": [
    {
     "data": {
      "text/plain": [
       "array([[0.94444444, 0.94666667, 0.94      , 0.94222222, 0.94666667],\n",
       "       [0.94444444, 0.95777778, 0.93777778, 0.96      , 0.94888889],\n",
       "       [0.95111111, 0.94666667, 0.95555556, 0.93333333, 0.96      ],\n",
       "       [0.95111111, 0.93555556, 0.94888889, 0.95333333, 0.94666667],\n",
       "       [0.92      , 0.93333333, 0.94888889, 0.08444444, 0.91777778]])"
      ]
     },
     "execution_count": 61,
     "metadata": {},
     "output_type": "execute_result"
    }
   ],
   "source": [
    "accs_test"
   ]
  },
  {
   "cell_type": "markdown",
   "metadata": {
    "colab_type": "text",
    "id": "Ik2G2TbG86mp"
   },
   "source": [
    "Построим боксплоты полученного качества (горизонтальная линия в каждом столбце - среднее, прямоугольник показывает разброс)."
   ]
  },
  {
   "cell_type": "code",
   "execution_count": 62,
   "metadata": {
    "ExecuteTime": {
     "end_time": "2020-09-29T20:03:51.571848Z",
     "start_time": "2020-09-29T20:03:51.407289Z"
    },
    "colab": {},
    "colab_type": "code",
    "id": "UyUp3bX_86mp"
   },
   "outputs": [
    {
     "data": {
      "text/plain": [
       "Text(0.5, 1.0, 'Test quality in 5 runs')"
      ]
     },
     "execution_count": 62,
     "metadata": {},
     "output_type": "execute_result"
    },
    {
     "data": {
      "image/png": "[encoded data removed]",
      "text/plain": [
       "<Figure size 432x288 with 1 Axes>"
      ]
     },
     "metadata": {
      "needs_background": "light"
     },
     "output_type": "display_data"
    }
   ],
   "source": [
    "plt.boxplot(accs_test.T, showfliers=False)\n",
    "plt.xlabel(\"Num layers\")\n",
    "plt.ylabel(\"Test accuracy\")\n",
    "plt.title(\"Test quality in 5 runs\")"
   ]
  },
  {
   "cell_type": "markdown",
   "metadata": {
    "colab_type": "text",
    "id": "AAztSPvw86mt"
   },
   "source": [
    "Как изменяются качество на обучении и контроле и устойчивость процесса обучения при увеличении числа слоев?\n",
    "* Лучшее среднее значение качества получено при 3х слоях, с 3 до 5 качество убывает. В данном эксперименте при 5 слоях получился наибольший разброс, при одном слое разброс наименьший, значит, более устойчивый процесс обучения.\n",
    "\n",
    "Несколько фрагментов кода в задании написаны на основе материалов курса по глубинному обучению на ФКН НИУ ВШЭ"
   ]
  },
  {
   "cell_type": "code",
   "execution_count": null,
   "metadata": {},
   "outputs": [],
   "source": []
  }
 ],
 "metadata": {
  "colab": {
   "name": "HW1.ipynb",
   "provenance": []
  },
  "kernelspec": {
   "display_name": "Python 3",
   "language": "python",
   "name": "python3"
  },
  "language_info": {
   "codemirror_mode": {
    "name": "ipython",
    "version": 3
   },
   "file_extension": ".py",
   "mimetype": "text/x-python",
   "name": "python",
   "nbconvert_exporter": "python",
   "pygments_lexer": "ipython3",
   "version": "3.8.3"
  },
  "toc": {
   "base_numbering": 1,
   "nav_menu": {},
   "number_sections": true,
   "sideBar": true,
   "skip_h1_title": false,
   "title_cell": "Table of Contents",
   "title_sidebar": "Contents",
   "toc_cell": false,
   "toc_position": {
    "height": "calc(100% - 180px)",
    "left": "10px",
    "top": "150px",
    "width": "307.2px"
   },
   "toc_section_display": true,
   "toc_window_display": true
  },
  "varInspector": {
   "cols": {
    "lenName": 16,
    "lenType": 16,
    "lenVar": 40
   },
   "kernels_config": {
    "python": {
     "delete_cmd_postfix": "",
     "delete_cmd_prefix": "del ",
     "library": "var_list.py",
     "varRefreshCmd": "print(var_dic_list())"
    },
    "r": {
     "delete_cmd_postfix": ") ",
     "delete_cmd_prefix": "rm(",
     "library": "var_list.r",
     "varRefreshCmd": "cat(var_dic_list()) "
    }
   },
   "types_to_exclude": [
    "module",
    "function",
    "builtin_function_or_method",
    "instance",
    "_Feature"
   ],
   "window_display": false
  }
 },
 "nbformat": 4,
 "nbformat_minor": 1
}
