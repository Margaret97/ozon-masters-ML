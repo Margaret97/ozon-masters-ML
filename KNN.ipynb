{
 "cells": [
  {
   "cell_type": "markdown",
   "metadata": {},
   "source": [
    "# Реализация метода ближайших соседей"
   ]
  },
  {
   "cell_type": "code",
   "execution_count": 1,
   "metadata": {},
   "outputs": [],
   "source": [
    "import numpy as np\n",
    "import sklearn \n",
    "from sklearn.neighbors import NearestNeighbors\n",
    "from sklearn import datasets\n",
    "import matplotlib.pyplot as plt\n",
    "%matplotlib inline"
   ]
  },
  {
   "cell_type": "code",
   "execution_count": 2,
   "metadata": {},
   "outputs": [],
   "source": [
    "EPS = 1e-5 # для взвешенного метода"
   ]
  },
  {
   "cell_type": "markdown",
   "metadata": {},
   "source": [
    "Метод $k$-ближайших соседей (k-NN) - метрический алгоритм для автоматической классификации объектов.\n",
    "Для классификации каждого из объектов тестовой выборки необходимо последовательно выполнить следующие операции:\n",
    "- вычислить расстояние до каждого из объектов обучающей выборки;\n",
    "- отобрать $k$ объектов обучающей выборки, расстояние до которых минимально;\n",
    "- класс классифицируемого объекта — это класс, наиболее часто встречающийся среди $k$ ближайших соседей."
   ]
  },
  {
   "cell_type": "markdown",
   "metadata": {},
   "source": [
    "Реализуется класс KNNClassifier с методами:\n",
    "- `__init__(self, k, strategy, metric, weights)` — конструктор класса;\n",
    "\n",
    "-  `fit(self, X, y)` — обучение алгоритма;\n",
    "- `find_kneighbors(self, X, return_distance)` — поиск соседей;\n",
    "\n",
    "- `predict(self, X)` — предсказание на новых данных.\n",
    "\n",
    "Есть собственная реализация метода ближайших соседей - 'my_own'."
   ]
  },
  {
   "cell_type": "code",
   "execution_count": 12,
   "metadata": {},
   "outputs": [],
   "source": [
    "import numpy as np\n",
    "import sklearn \n",
    "from sklearn.neighbors import NearestNeighbors\n",
    "from sklearn import datasets\n",
    "\n",
    "EPS = 1e-5\n",
    "\n",
    "\n",
    "class KNNClassifier:\n",
    "    def __init__(self, k, strategy, metric, weights):\n",
    "        self.k = k\n",
    "        self.strategy = strategy\n",
    "        self.metric = metric\n",
    "        self.weights = weights\n",
    "        \n",
    "    def fit(self, X, y):\n",
    "        if self.strategy == 'brute':\n",
    "            neigh = NearestNeighbors(n_neighbors=self.k, algorithm='brute', metric=self.metric)\n",
    "            self.res_fit = neigh.fit(X,y)\n",
    "            self.y = y\n",
    "        elif self.strategy == 'kd_tree':\n",
    "            neigh = NearestNeighbors(n_neighbors=self.k, algorithm='kd_tree', metric=self.metric)\n",
    "            self.res_fit = neigh.fit(X,y)\n",
    "            self.y = y\n",
    "        elif self.strategy == 'ball_tree':\n",
    "            neigh = NearestNeighbors(n_neighbors=self.k, algorithm='ball_tree', metric=self.metric)\n",
    "            self.res_fit = neigh.fit(X,y)\n",
    "            self.y = y\n",
    "        elif self.strategy == 'my_own':\n",
    "            self.X = X\n",
    "            self.y = y\n",
    "    \n",
    "    def find_kneighbors(self, X_test, return_distance):\n",
    "        if self.strategy == 'brute' or self.strategy == 'kd_tree' or self.strategy == 'ball_tree':\n",
    "            self.dist, self.ind = self.res_fit.kneighbors(X_test)\n",
    "            \n",
    "        else:\n",
    "            if self.metric == 'euclidean':\n",
    "                dist = euclidean_distance(X_test, self.X)\n",
    "            elif self.metric == 'cosine':\n",
    "                dist = cosine_distance(X_test, self.X)\n",
    "            else:\n",
    "                 return print(\"Error metric\")\n",
    "            \n",
    "            ind = np.argpartition(dist, self.k, axis = 1)\n",
    "            dist = np.take_along_axis(dist, ind, axis = 1)\n",
    "            dist = np.delete(dist, np.s_[self.k:], axis=1)\n",
    "            ind = np.delete(ind, np.s_[self.k:], axis=1)\n",
    "            ind_k = np.argsort(dist, axis=1)\n",
    "            self.dist = np.take_along_axis(dist, ind_k, axis=1)\n",
    "            self.ind = np.take_along_axis(ind, ind_k, axis=1)\n",
    "            \n",
    "        if return_distance:\n",
    "            return self.dist, self.ind\n",
    "        else:\n",
    "            return self.ind\n",
    "            \n",
    "    def predict(self, X_test):\n",
    "        if self.weights:\n",
    "            self.dist, self.ind = self.find_kneighbors(X_test,True)\n",
    "        else:\n",
    "            self.ind = self.find_kneighbors(X_test,False)\n",
    "        result = np.zeros(X_test.shape[0])\n",
    "        for i in range(0, X_test.shape[0]):\n",
    "            labels = np.zeros(len(np.unique(self.y)))\n",
    "            for j in range(0,self.k):\n",
    "                if self.weights:\n",
    "                    labels[int(self.y[self.ind[i][j]])] += 1 / (self.dist[i][j] + EPS)\n",
    "                else:\n",
    "                    labels[int(self.y[self.ind[i][j]])] += 1 \n",
    "            result[i] = np.argmax(labels)\n",
    "        return result"
   ]
  },
  {
   "cell_type": "markdown",
   "metadata": {},
   "source": [
    "Функции для вычисления расстояний"
   ]
  },
  {
   "cell_type": "code",
   "execution_count": 4,
   "metadata": {},
   "outputs": [],
   "source": [
    "def euclidean_distance(x, y):\n",
    "    sqr_x = np.array([np.sum(x * x, axis=1)])\n",
    "    sqr_y = np.array([np.sum(y * y, axis=1)])\n",
    "    x_y = np.dot(x,y.T)\n",
    "    dist_x_y = sqr_x.T - 2 * x_y + sqr_y\n",
    "    return np.sqrt(dist_x_y)"
   ]
  },
  {
   "cell_type": "code",
   "execution_count": 5,
   "metadata": {},
   "outputs": [],
   "source": [
    "def cosine_distance(x, y):\n",
    "    norm_x = np.array(np.linalg.norm(x, axis=1))\n",
    "    norm_y = np.array(np.linalg.norm(y, axis=1))\n",
    "    x_y = np.dot(x,y.T)\n",
    "    matrix_cos = x_y / (np.dot(norm_x.reshape(-1, 1),norm_y.reshape(1,-1)))\n",
    "    return 1 - matrix_cos"
   ]
  },
  {
   "cell_type": "markdown",
   "metadata": {},
   "source": [
    "Функция для измерения качества на кросс-валидации с $3$ фолдами"
   ]
  },
  {
   "cell_type": "code",
   "execution_count": 6,
   "metadata": {},
   "outputs": [],
   "source": [
    "from sklearn.model_selection import KFold"
   ]
  },
  {
   "cell_type": "code",
   "execution_count": 7,
   "metadata": {},
   "outputs": [],
   "source": [
    "def accuracy(x, y):\n",
    "        result = x.astype(int) - y.astype(int)\n",
    "        zerous = result[result==0]\n",
    "        return len(zerous) / len(y)  "
   ]
  },
  {
   "cell_type": "code",
   "execution_count": 8,
   "metadata": {},
   "outputs": [],
   "source": [
    "def knn_cross_val_score(X, y, k_list, score, cv, **kwargs):\n",
    "    result = {}\n",
    "    if cv is not None:\n",
    "        for k in k_list:\n",
    "            item = KNNClassifier(k, **kwargs)\n",
    "            accuracy_dict = []\n",
    "            for i in cv:\n",
    "                item.fit(X[i[0]],y[i[0]])\n",
    "                y_pred = item.predict(X[i[1]])\n",
    "                elem_accuracy = accuracy(y_pred, y[i[1]])\n",
    "                accuracy_dict.append(elem_accuracy)\n",
    "            result[\"{}\".format(k)] = np.array(accuracy_dict)\n",
    "    else: \n",
    "        fold = KFold(n_splits=3)\n",
    "        for k in k_list:\n",
    "            item = KNNClassifier(k, **kwargs)\n",
    "            accuracy_dict = []\n",
    "            for train, test in fold.split(X):\n",
    "                item.fit(X[train],y[train])\n",
    "                y_pred = item.predict(X[test])\n",
    "                elem_accuracy = accuracy(y_pred, y[test])\n",
    "                accuracy_dict.append(elem_accuracy)\n",
    "            result[\"{}\".format(k)] = np.array(accuracy_dict)\n",
    "    return result"
   ]
  },
  {
   "cell_type": "markdown",
   "metadata": {},
   "source": [
    "# Эксперименты на датасете MNIST."
   ]
  },
  {
   "cell_type": "code",
   "execution_count": 9,
   "metadata": {},
   "outputs": [],
   "source": [
    "X, y = datasets.fetch_openml('mnist_784', version=1, return_X_y=True)"
   ]
  },
  {
   "cell_type": "markdown",
   "metadata": {},
   "source": [
    "## "
   ]
  },
  {
   "cell_type": "markdown",
   "metadata": {},
   "source": [
    "Оценим по кросс-валидации с 3 фолдами точность (долю правильно предсказанных ответов) и время\n",
    "работы $k$ ближайших соседей в зависимости от следующих факторов:\n",
    "- $k$ от 1 до 10;\n",
    "- используется евклидова или косинусная метрика."
   ]
  },
  {
   "cell_type": "markdown",
   "metadata": {},
   "source": [
    "Посмотрим на время работы при разных $k$ с метрикой = 'euclidean'."
   ]
  },
  {
   "cell_type": "code",
   "execution_count": 13,
   "metadata": {},
   "outputs": [],
   "source": [
    "from timeit import default_timer as timer"
   ]
  },
  {
   "cell_type": "code",
   "execution_count": 14,
   "metadata": {},
   "outputs": [
    {
     "name": "stdout",
     "output_type": "stream",
     "text": [
      "1 5.105148500000723 {'1': array([0.91181764, 0.9280144 , 0.92977191])}\n",
      "2 4.956710200000089 {'2': array([0.91181764, 0.9280144 , 0.92977191])}\n",
      "3 5.02041459999964 {'3': array([0.9160168 , 0.93821236, 0.92917167])}\n",
      "4 4.980292600000212 {'4': array([0.91661668, 0.93641272, 0.93337335])}\n",
      "5 4.986759000000347 {'5': array([0.91841632, 0.93461308, 0.92737095])}\n",
      "6 4.9831851999997525 {'6': array([0.9160168 , 0.93581284, 0.92977191])}\n",
      "7 5.040951900000437 {'7': array([0.9130174 , 0.93221356, 0.92076831])}\n",
      "8 5.0415804000003845 {'8': array([0.91541692, 0.93221356, 0.92196879])}\n",
      "9 5.0433175000007395 {'9': array([0.910018  , 0.92681464, 0.92016807])}\n",
      "10 5.0016278000002785 {'10': array([0.91061788, 0.9310138 , 0.92136855])}\n",
      "Среднее время работы: 5.015998770000261\n"
     ]
    }
   ],
   "source": [
    "time = []\n",
    "for k in range(1,11):\n",
    "    start = timer()\n",
    "    score_knn = knn_cross_val_score(X[0:5000], y[0:5000], [k], accuracy, cv=None,\n",
    "                            **{'strategy': \"my_own\", \"metric\": \"euclidean\", \"weights\": True})\n",
    "    end = timer()\n",
    "    dif = end - start\n",
    "    time.append(dif)\n",
    "    print(k, dif, score_knn)\n",
    "time = np.array(time)\n",
    "time_mean = time.mean()\n",
    "print(f\"Среднее время работы: {time_mean}\")"
   ]
  },
  {
   "cell_type": "markdown",
   "metadata": {},
   "source": [
    "Время работы при разных $k$ с метрикой = 'cosine'."
   ]
  },
  {
   "cell_type": "code",
   "execution_count": 15,
   "metadata": {},
   "outputs": [
    {
     "name": "stdout",
     "output_type": "stream",
     "text": [
      "1 4.906330400000115 {'1': array([0.9310138 , 0.9370126 , 0.93637455])}\n",
      "2 4.9551477000004525 {'2': array([0.9310138 , 0.9370126 , 0.93637455])}\n",
      "3 5.07080599999972 {'3': array([0.93521296, 0.94961008, 0.94177671])}\n",
      "4 5.010312899999917 {'4': array([0.94061188, 0.95080984, 0.93697479])}\n",
      "5 4.981564900000194 {'5': array([0.9370126 , 0.94421116, 0.93877551])}\n",
      "6 4.981562300000405 {'6': array([0.93281344, 0.94481104, 0.93757503])}\n",
      "7 5.022476000000097 {'7': array([0.92921416, 0.9340132 , 0.93637455])}\n",
      "8 5.033993199999713 {'8': array([0.92981404, 0.93641272, 0.93577431])}\n",
      "9 5.161804500000471 {'9': array([0.92681464, 0.93041392, 0.93637455])}\n",
      "10 5.235629099999642 {'10': array([0.92321536, 0.93161368, 0.93817527])}\n",
      "Среднее время работы: 5.035962700000073\n"
     ]
    }
   ],
   "source": [
    "time_1 = []\n",
    "for k in range(1,11):\n",
    "    start = timer()\n",
    "    score_knn = knn_cross_val_score(X[0:5000], y[0:5000], [k], accuracy, cv=None,\n",
    "                                    **{'strategy': \"my_own\", \"metric\": \"cosine\", \"weights\": True})\n",
    "    end = timer()\n",
    "    dif = end - start\n",
    "    time_1.append(dif)\n",
    "    print(k, dif, score_knn)\n",
    "time_1 = np.array(time_1)\n",
    "time_mean_1 = time_1.mean()\n",
    "print(f\"Среднее время работы: {time_mean_1}\")"
   ]
  },
  {
   "cell_type": "markdown",
   "metadata": {},
   "source": [
    "Из результатов можно заметить, что косинусная мера дает более точный результат. В среднем время работы при евклидовой метрике получилось меньше. "
   ]
  },
  {
   "cell_type": "markdown",
   "metadata": {},
   "source": [
    "## "
   ]
  },
  {
   "cell_type": "markdown",
   "metadata": {},
   "source": [
    "Сравним взвешенный метод $k$ ближайших соседей c голосом объекта $\\dfrac {1}{(distance + \\varepsilon)}$, где $\\varepsilon=10^{−5}$, с методом без весов при тех же фолдах и параметрах."
   ]
  },
  {
   "cell_type": "markdown",
   "metadata": {},
   "source": [
    "Для сравнения методов возьмем среднее по accuracy при каждом фиксированном $k$ и выберем максимум среди них, чтобы увидеть при каком $k$ более точное решение."
   ]
  },
  {
   "cell_type": "markdown",
   "metadata": {},
   "source": [
    "Метод без весов"
   ]
  },
  {
   "cell_type": "code",
   "execution_count": 16,
   "metadata": {},
   "outputs": [
    {
     "name": "stdout",
     "output_type": "stream",
     "text": [
      "Лучшая итерация: 1 - 0.9232013141189289\n"
     ]
    }
   ],
   "source": [
    "max_of_k = []\n",
    "for k in range(1,11):\n",
    "    mean = np.mean(knn_cross_val_score(X[0:5000], y[0:5000], [k], accuracy,\n",
    "            cv=None, **{'strategy': \"my_own\", \"metric\": \"euclidean\", \n",
    "                        \"weights\": False})[\"{}\".format(k)])\n",
    "    max_of_k.append(mean)\n",
    "print(f\"Лучшая итерация: {np.argmax(max_of_k) + 1} - {max(max_of_k)}\")"
   ]
  },
  {
   "cell_type": "markdown",
   "metadata": {},
   "source": [
    "Взвешенный метод"
   ]
  },
  {
   "cell_type": "code",
   "execution_count": 17,
   "metadata": {},
   "outputs": [
    {
     "name": "stdout",
     "output_type": "stream",
     "text": [
      "Лучшая итерация: 4 - 0.9288009144869706\n"
     ]
    }
   ],
   "source": [
    "max_of_k = []\n",
    "for k in range(1,11):\n",
    "    mean = np.mean(knn_cross_val_score(X[0:5000], y[0:5000], [k], accuracy,\n",
    "            cv=None, **{'strategy': \"my_own\", \"metric\": \"euclidean\", \n",
    "                        \"weights\": True})[\"{}\".format(k)])\n",
    "    max_of_k.append(mean)\n",
    "print(f\"Лучшая итерация: {np.argmax(max_of_k) + 1} - {max(max_of_k)}\")"
   ]
  },
  {
   "cell_type": "markdown",
   "metadata": {},
   "source": [
    "Видим, что взвешенный метод дал более точный результат, в первом случае наибольшее accuracy получилось при $k=1$, во втором - при $k=4$."
   ]
  },
  {
   "cell_type": "markdown",
   "metadata": {},
   "source": [
    "## "
   ]
  },
  {
   "cell_type": "markdown",
   "metadata": {},
   "source": [
    "Из предыдущего пункта выяснили, что лучшие параметры для модели: $k = 4$, metric = 'cosine', weights = True"
   ]
  },
  {
   "cell_type": "code",
   "execution_count": 18,
   "metadata": {},
   "outputs": [],
   "source": [
    "model = KNNClassifier(4, 'my_own', 'cosine', True)"
   ]
  },
  {
   "cell_type": "markdown",
   "metadata": {},
   "source": [
    "Возьмем обучающую выборку размером 5000 и посмотрим на результат."
   ]
  },
  {
   "cell_type": "code",
   "execution_count": 19,
   "metadata": {},
   "outputs": [],
   "source": [
    "model.fit(X[:5000],y[:5000])"
   ]
  },
  {
   "cell_type": "code",
   "execution_count": 20,
   "metadata": {},
   "outputs": [],
   "source": [
    "y_pred = model.predict(X[5000:6000])"
   ]
  },
  {
   "cell_type": "code",
   "execution_count": 21,
   "metadata": {},
   "outputs": [],
   "source": [
    "res = accuracy(y_pred, y[5000:6000])"
   ]
  },
  {
   "cell_type": "code",
   "execution_count": 22,
   "metadata": {},
   "outputs": [
    {
     "data": {
      "text/plain": [
       "0.945"
      ]
     },
     "execution_count": 22,
     "metadata": {},
     "output_type": "execute_result"
    }
   ],
   "source": [
    "res"
   ]
  },
  {
   "cell_type": "markdown",
   "metadata": {},
   "source": [
    "Точность получилась выше, чем в кросс-валидации, наверное, это связано с тем, что в кросс-валидации меньше обучающая выборка."
   ]
  },
  {
   "cell_type": "markdown",
   "metadata": {},
   "source": [
    "## "
   ]
  },
  {
   "cell_type": "markdown",
   "metadata": {},
   "source": [
    "Построим матрицу ошибок (confusion matrix)."
   ]
  },
  {
   "cell_type": "code",
   "execution_count": 23,
   "metadata": {},
   "outputs": [],
   "source": [
    "from sklearn.metrics import confusion_matrix\n",
    "from sklearn.utils.multiclass import unique_labels"
   ]
  },
  {
   "cell_type": "markdown",
   "metadata": {},
   "source": [
    "Используем функцию для ее отображения"
   ]
  },
  {
   "cell_type": "code",
   "execution_count": 24,
   "metadata": {},
   "outputs": [],
   "source": [
    "def plot_confusion_matrix(y_true, y_pred, classes,\n",
    "                          normalize=False,\n",
    "                          title=None,\n",
    "                          cmap=plt.cm.Blues):\n",
    "    \"\"\"\n",
    "    This function prints and plots the confusion matrix.\n",
    "    Normalization can be applied by setting `normalize=True`.\n",
    "    \"\"\"\n",
    "    if not title:\n",
    "        if normalize:\n",
    "            title = 'Normalized confusion matrix'\n",
    "        else:\n",
    "            title = 'Confusion matrix, without normalization'\n",
    " \n",
    "    # Compute confusion matrix\n",
    "    cm = confusion_matrix(y_true, y_pred)\n",
    "    # Only use the labels that appear in the data\n",
    "    classes = classes[unique_labels(y_true, y_pred)]\n",
    "    if normalize:\n",
    "        cm = cm.astype('float') / cm.sum(axis=1)[:, np.newaxis]\n",
    "        \n",
    "    fig, ax = plt.subplots()\n",
    "    im = ax.imshow(cm, interpolation='nearest', cmap=cmap)\n",
    "    ax.figure.colorbar(im, ax=ax)\n",
    "    # We want to show all ticks...\n",
    "    ax.set(xticks=np.arange(cm.shape[1]),\n",
    "           yticks=np.arange(cm.shape[0]),\n",
    "           # ... and label them with the respective list entries\n",
    "           xticklabels=classes, yticklabels=classes,\n",
    "           title=title,\n",
    "           ylabel='True label',\n",
    "           xlabel='Predicted label')\n",
    " \n",
    "    # Rotate the tick labels and set their alignment.\n",
    "    plt.setp(ax.get_xticklabels(), rotation=45, ha=\"right\",\n",
    "             rotation_mode=\"anchor\")\n",
    " \n",
    "    # Loop over data dimensions and create text annotations.\n",
    "    fmt = '.2f' if normalize else 'd'\n",
    "    thresh = cm.max() / 2.\n",
    "    for i in range(cm.shape[0]):\n",
    "        for j in range(cm.shape[1]):\n",
    "            ax.text(j, i, format(cm[i, j], fmt),\n",
    "                    ha=\"center\", va=\"center\",\n",
    "                    color=\"white\" if cm[i, j] > thresh else \"black\")\n",
    "    fig.tight_layout()\n",
    "    return ax"
   ]
  },
  {
   "cell_type": "code",
   "execution_count": 25,
   "metadata": {},
   "outputs": [],
   "source": [
    "class_names = np.array([\"0\", \"1\", \"2\", \"3\", \"4\", \"5\", \"6\", \"7\", \"8\", \"9\"])"
   ]
  },
  {
   "cell_type": "code",
   "execution_count": 26,
   "metadata": {},
   "outputs": [
    {
     "data": {
      "text/plain": [
       "<AxesSubplot:title={'center':'Confusion matrix, without normalization'}, xlabel='Predicted label', ylabel='True label'>"
      ]
     },
     "execution_count": 26,
     "metadata": {},
     "output_type": "execute_result"
    },
    {
     "data": {
      "image/png": "[encoded data removed]",
      "text/plain": [
       "<Figure size 432x288 with 2 Axes>"
      ]
     },
     "metadata": {
      "needs_background": "light"
     },
     "output_type": "display_data"
    }
   ],
   "source": [
    "plot_confusion_matrix(y[5000:6000].astype(int), y_pred, class_names)"
   ]
  },
  {
   "cell_type": "markdown",
   "metadata": {},
   "source": [
    "Из матрицы можно увидеть, что алгоритм чаще всего путал 7 с 9, предсказывал 9 вместо 7 (9 раз ошибся), также 4 раза перепутал 3 с 0."
   ]
  },
  {
   "cell_type": "markdown",
   "metadata": {},
   "source": [
    "Были допущены ошибки:"
   ]
  },
  {
   "cell_type": "code",
   "execution_count": 27,
   "metadata": {},
   "outputs": [],
   "source": [
    "error = np.where(y_pred != y[5000:6000].astype(int))"
   ]
  },
  {
   "cell_type": "code",
   "execution_count": 28,
   "metadata": {},
   "outputs": [
    {
     "data": {
      "text/plain": [
       "(array([  0,  30,  38,  42,  68, 103, 113, 127, 134, 148, 174, 188, 195,\n",
       "        216, 298, 308, 315, 332, 382, 390, 408, 422, 430, 480, 482, 536,\n",
       "        554, 572, 616, 628, 632, 638, 642, 659, 666, 679, 704, 706, 723,\n",
       "        736, 738, 740, 769, 795, 811, 821, 828, 842, 855, 896, 916, 936,\n",
       "        954, 967, 972], dtype=int64),)"
      ]
     },
     "execution_count": 28,
     "metadata": {},
     "output_type": "execute_result"
    }
   ],
   "source": [
    "error"
   ]
  },
  {
   "cell_type": "code",
   "execution_count": 29,
   "metadata": {},
   "outputs": [
    {
     "data": {
      "text/plain": [
       "<matplotlib.image.AxesImage at 0x1a658ce17f0>"
      ]
     },
     "execution_count": 29,
     "metadata": {},
     "output_type": "execute_result"
    },
    {
     "data": {
      "image/png": "[encoded data removed]",
      "text/plain": [
       "<Figure size 432x288 with 1 Axes>"
      ]
     },
     "metadata": {
      "needs_background": "light"
     },
     "output_type": "display_data"
    }
   ],
   "source": [
    "plt.imshow(X[5000,:].reshape(28,28))"
   ]
  },
  {
   "cell_type": "code",
   "execution_count": 30,
   "metadata": {},
   "outputs": [
    {
     "data": {
      "text/plain": [
       "<matplotlib.image.AxesImage at 0x1a658d38f40>"
      ]
     },
     "execution_count": 30,
     "metadata": {},
     "output_type": "execute_result"
    },
    {
     "data": {
      "image/png": "[encoded data removed]",
      "text/plain": [
       "<Figure size 432x288 with 1 Axes>"
      ]
     },
     "metadata": {
      "needs_background": "light"
     },
     "output_type": "display_data"
    }
   ],
   "source": [
    "plt.imshow(X[5068,:].reshape(28,28))"
   ]
  },
  {
   "cell_type": "markdown",
   "metadata": {},
   "source": [
    "Здесь, возможно, перепутал с 9."
   ]
  },
  {
   "cell_type": "code",
   "execution_count": 31,
   "metadata": {},
   "outputs": [
    {
     "data": {
      "text/plain": [
       "<matplotlib.image.AxesImage at 0x1a658d93700>"
      ]
     },
     "execution_count": 31,
     "metadata": {},
     "output_type": "execute_result"
    },
    {
     "data": {
      "image/png": "[encoded data removed]",
      "text/plain": [
       "<Figure size 432x288 with 1 Axes>"
      ]
     },
     "metadata": {
      "needs_background": "light"
     },
     "output_type": "display_data"
    }
   ],
   "source": [
    "plt.imshow(X[5811,:].reshape(28,28))"
   ]
  },
  {
   "cell_type": "markdown",
   "metadata": {},
   "source": [
    "В этом случае непонятно 1, 7 или 9."
   ]
  }
 ],
 "metadata": {
  "kernelspec": {
   "display_name": "Python 3",
   "language": "python",
   "name": "python3"
  },
  "language_info": {
   "codemirror_mode": {
    "name": "ipython",
    "version": 3
   },
   "file_extension": ".py",
   "mimetype": "text/x-python",
   "name": "python",
   "nbconvert_exporter": "python",
   "pygments_lexer": "ipython3",
   "version": "3.8.3"
  },
  "toc": {
   "base_numbering": 1,
   "nav_menu": {},
   "number_sections": true,
   "sideBar": true,
   "skip_h1_title": false,
   "title_cell": "Table of Contents",
   "title_sidebar": "Contents",
   "toc_cell": false,
   "toc_position": {},
   "toc_section_display": true,
   "toc_window_display": true
  }
 },
 "nbformat": 4,
 "nbformat_minor": 2
}
