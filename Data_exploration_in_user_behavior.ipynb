{
 "cells": [
  {
   "cell_type": "markdown",
   "metadata": {},
   "source": [
    "Задача - исследовать поведение клиентов и предсказать совершенение клиентом покупки."
   ]
  },
  {
   "cell_type": "code",
   "execution_count": 2,
   "metadata": {},
   "outputs": [],
   "source": [
    "import pandas as pd\n",
    "import numpy as np\n",
    "\n",
    "from sklearn.preprocessing import OneHotEncoder\n",
    "from lightgbm import LGBMClassifier\n",
    "from sklearn.metrics import accuracy_score\n",
    "from sklearn.metrics import roc_auc_score\n",
    "import matplotlib.pyplot as plt\n",
    "%matplotlib inline"
   ]
  },
  {
   "cell_type": "code",
   "execution_count": 3,
   "metadata": {},
   "outputs": [],
   "source": [
    "df = pd.read_csv('HW_CBR.csv')"
   ]
  },
  {
   "cell_type": "code",
   "execution_count": 4,
   "metadata": {},
   "outputs": [
    {
     "data": {
      "text/html": [
       "<div>\n",
       "<style scoped>\n",
       "    .dataframe tbody tr th:only-of-type {\n",
       "        vertical-align: middle;\n",
       "    }\n",
       "\n",
       "    .dataframe tbody tr th {\n",
       "        vertical-align: top;\n",
       "    }\n",
       "\n",
       "    .dataframe thead th {\n",
       "        text-align: right;\n",
       "    }\n",
       "</style>\n",
       "<table border=\"1\" class=\"dataframe\">\n",
       "  <thead>\n",
       "    <tr style=\"text-align: right;\">\n",
       "      <th></th>\n",
       "      <th>pdp_view</th>\n",
       "      <th>add_favorite</th>\n",
       "      <th>del_favorite</th>\n",
       "      <th>add_cart</th>\n",
       "      <th>del_cart</th>\n",
       "      <th>avail_on</th>\n",
       "      <th>pre_order</th>\n",
       "      <th>orders</th>\n",
       "      <th>target</th>\n",
       "      <th>ClientId</th>\n",
       "    </tr>\n",
       "  </thead>\n",
       "  <tbody>\n",
       "    <tr>\n",
       "      <th>0</th>\n",
       "      <td>15</td>\n",
       "      <td>1</td>\n",
       "      <td>0</td>\n",
       "      <td>4</td>\n",
       "      <td>0</td>\n",
       "      <td>1</td>\n",
       "      <td>1</td>\n",
       "      <td>9</td>\n",
       "      <td>1</td>\n",
       "      <td>0</td>\n",
       "    </tr>\n",
       "    <tr>\n",
       "      <th>1</th>\n",
       "      <td>0</td>\n",
       "      <td>0</td>\n",
       "      <td>0</td>\n",
       "      <td>0</td>\n",
       "      <td>0</td>\n",
       "      <td>0</td>\n",
       "      <td>0</td>\n",
       "      <td>0</td>\n",
       "      <td>0</td>\n",
       "      <td>1</td>\n",
       "    </tr>\n",
       "    <tr>\n",
       "      <th>2</th>\n",
       "      <td>3</td>\n",
       "      <td>0</td>\n",
       "      <td>0</td>\n",
       "      <td>1</td>\n",
       "      <td>0</td>\n",
       "      <td>0</td>\n",
       "      <td>0</td>\n",
       "      <td>4</td>\n",
       "      <td>1</td>\n",
       "      <td>2</td>\n",
       "    </tr>\n",
       "    <tr>\n",
       "      <th>3</th>\n",
       "      <td>24</td>\n",
       "      <td>0</td>\n",
       "      <td>0</td>\n",
       "      <td>6</td>\n",
       "      <td>0</td>\n",
       "      <td>0</td>\n",
       "      <td>0</td>\n",
       "      <td>3</td>\n",
       "      <td>1</td>\n",
       "      <td>3</td>\n",
       "    </tr>\n",
       "    <tr>\n",
       "      <th>4</th>\n",
       "      <td>0</td>\n",
       "      <td>0</td>\n",
       "      <td>0</td>\n",
       "      <td>0</td>\n",
       "      <td>0</td>\n",
       "      <td>0</td>\n",
       "      <td>0</td>\n",
       "      <td>6</td>\n",
       "      <td>1</td>\n",
       "      <td>4</td>\n",
       "    </tr>\n",
       "  </tbody>\n",
       "</table>\n",
       "</div>"
      ],
      "text/plain": [
       "   pdp_view  add_favorite  del_favorite  add_cart  del_cart  avail_on  \\\n",
       "0        15             1             0         4         0         1   \n",
       "1         0             0             0         0         0         0   \n",
       "2         3             0             0         1         0         0   \n",
       "3        24             0             0         6         0         0   \n",
       "4         0             0             0         0         0         0   \n",
       "\n",
       "   pre_order  orders  target  ClientId  \n",
       "0          1       9       1         0  \n",
       "1          0       0       0         1  \n",
       "2          0       4       1         2  \n",
       "3          0       3       1         3  \n",
       "4          0       6       1         4  "
      ]
     },
     "execution_count": 4,
     "metadata": {},
     "output_type": "execute_result"
    }
   ],
   "source": [
    "df.head()"
   ]
  },
  {
   "cell_type": "code",
   "execution_count": 5,
   "metadata": {},
   "outputs": [
    {
     "data": {
      "text/plain": [
       "(2611231, 10)"
      ]
     },
     "execution_count": 5,
     "metadata": {},
     "output_type": "execute_result"
    }
   ],
   "source": [
    "df.shape"
   ]
  },
  {
   "cell_type": "code",
   "execution_count": 6,
   "metadata": {},
   "outputs": [
    {
     "data": {
      "text/plain": [
       "(2611231,)"
      ]
     },
     "execution_count": 6,
     "metadata": {},
     "output_type": "execute_result"
    }
   ],
   "source": [
    "df['ClientId'].unique().shape"
   ]
  },
  {
   "cell_type": "code",
   "execution_count": 7,
   "metadata": {},
   "outputs": [],
   "source": [
    "train_size = int(0.5 * df.shape[0])\n",
    "test_size = int(0.75 * df.shape[0])\n",
    "train = df.iloc[:train_size]\n",
    "test = df.iloc[train_size:test_size]\n",
    "val = df.iloc[test_size:]"
   ]
  },
  {
   "cell_type": "code",
   "execution_count": 8,
   "metadata": {},
   "outputs": [],
   "source": [
    "features = ['pdp_view','add_favorite','del_favorite', 'add_cart', 'del_cart', 'avail_on', 'pre_order', 'orders']\n",
    "target = ['target']"
   ]
  },
  {
   "cell_type": "code",
   "execution_count": 9,
   "metadata": {},
   "outputs": [
    {
     "data": {
      "text/plain": [
       "<matplotlib.colorbar.Colorbar at 0x22ad2bff7c0>"
      ]
     },
     "execution_count": 9,
     "metadata": {},
     "output_type": "execute_result"
    },
    {
     "data": {
      "image/png": "[encoded data removed]",
      "text/plain": [
       "<Figure size 432x288 with 2 Axes>"
      ]
     },
     "metadata": {
      "needs_background": "light"
     },
     "output_type": "display_data"
    }
   ],
   "source": [
    "plt.imshow(train[features].corr(), interpolation='none') \n",
    "plt.colorbar()"
   ]
  },
  {
   "cell_type": "code",
   "execution_count": 10,
   "metadata": {},
   "outputs": [],
   "source": [
    "import seaborn as sns\n",
    "\n",
    "sns.set()"
   ]
  },
  {
   "cell_type": "code",
   "execution_count": 11,
   "metadata": {},
   "outputs": [],
   "source": [
    "import math"
   ]
  },
  {
   "cell_type": "code",
   "execution_count": 12,
   "metadata": {},
   "outputs": [
    {
     "data": {
      "image/png": "[encoded data removed]",
      "text/plain": [
       "<Figure size 432x288 with 1 Axes>"
      ]
     },
     "metadata": {},
     "output_type": "display_data"
    }
   ],
   "source": [
    "train['pdp_view'].hist(bins=10,range=(1, 50))\n",
    "\n",
    "plt.show()"
   ]
  },
  {
   "cell_type": "code",
   "execution_count": 13,
   "metadata": {},
   "outputs": [
    {
     "data": {
      "image/png": "[encoded data removed]",
      "text/plain": [
       "<Figure size 432x288 with 1 Axes>"
      ]
     },
     "metadata": {},
     "output_type": "display_data"
    }
   ],
   "source": [
    "train['avail_on'].hist(bins=10,range=(0, 4))\n",
    "plt.title('avail_on',fontsize=15)\n",
    "plt.savefig('avail_on.jpg')\n",
    "plt.show()"
   ]
  },
  {
   "cell_type": "markdown",
   "metadata": {},
   "source": [
    "Оказывается, мало людей подписывается на товары, которых нет в наличии. Возможно, это связано с тем, что таких товаров мало.  На диаграмме показано распределение количества подписок среди 1305615 пользователей (train). Всего 88445 пользователей подписались и среди них 71523 сделали заказы."
   ]
  },
  {
   "cell_type": "code",
   "execution_count": 14,
   "metadata": {},
   "outputs": [
    {
     "data": {
      "text/plain": [
       "88445"
      ]
     },
     "execution_count": 14,
     "metadata": {},
     "output_type": "execute_result"
    }
   ],
   "source": [
    "train.shape[0] - train[train['avail_on'] == 0].shape[0]"
   ]
  },
  {
   "cell_type": "code",
   "execution_count": 15,
   "metadata": {},
   "outputs": [
    {
     "data": {
      "text/plain": [
       "71523"
      ]
     },
     "execution_count": 15,
     "metadata": {},
     "output_type": "execute_result"
    }
   ],
   "source": [
    "train[train['avail_on'] != 0].loc[train['target'] == 1].shape[0]"
   ]
  },
  {
   "cell_type": "code",
   "execution_count": 16,
   "metadata": {},
   "outputs": [],
   "source": [
    "order = train.loc[train['target'] == 1, 'ClientId']\n",
    "not_order = train.loc[train['target'] == 0, 'ClientId']"
   ]
  },
  {
   "cell_type": "code",
   "execution_count": 17,
   "metadata": {},
   "outputs": [
    {
     "data": {
      "text/plain": [
       "0.7159775278317115"
      ]
     },
     "execution_count": 17,
     "metadata": {},
     "output_type": "execute_result"
    }
   ],
   "source": [
    "order.shape[0] / (order.shape[0] + not_order.shape[0])"
   ]
  },
  {
   "cell_type": "code",
   "execution_count": 18,
   "metadata": {},
   "outputs": [
    {
     "data": {
      "text/plain": [
       "0.2840224721682885"
      ]
     },
     "execution_count": 18,
     "metadata": {},
     "output_type": "execute_result"
    }
   ],
   "source": [
    "not_order.shape[0] / (order.shape[0] + not_order.shape[0])"
   ]
  },
  {
   "cell_type": "code",
   "execution_count": 19,
   "metadata": {},
   "outputs": [
    {
     "data": {
      "text/plain": [
       "370824"
      ]
     },
     "execution_count": 19,
     "metadata": {},
     "output_type": "execute_result"
    }
   ],
   "source": [
    "not_order.shape[0]"
   ]
  },
  {
   "cell_type": "code",
   "execution_count": 20,
   "metadata": {},
   "outputs": [
    {
     "data": {
      "text/plain": [
       "(1305615, 10)"
      ]
     },
     "execution_count": 20,
     "metadata": {},
     "output_type": "execute_result"
    }
   ],
   "source": [
    "train.shape"
   ]
  },
  {
   "cell_type": "code",
   "execution_count": 21,
   "metadata": {},
   "outputs": [
    {
     "data": {
      "image/png": "[encoded data removed]",
      "text/plain": [
       "<Figure size 720x504 with 1 Axes>"
      ]
     },
     "metadata": {},
     "output_type": "display_data"
    }
   ],
   "source": [
    "fig, ax = plt.subplots()\n",
    "fig.set_figwidth(10)\n",
    "fig.set_figheight(7)\n",
    "plt.scatter(order, train.loc[train['target'] == 1, 'orders'], s=15, c='r', alpha = 0.5, label='order')\n",
    "plt.scatter(not_order, train.loc[train['target']== 0, 'orders'], s=15, c='b', label='not order')\n",
    "plt.title('Count of orders 90 days before',fontsize=20)\n",
    "plt.xlabel('clientId')\n",
    "plt.ylabel('orders')\n",
    "plt.legend(fontsize=15)\n",
    "plt.savefig('90days.jpg')"
   ]
  },
  {
   "cell_type": "markdown",
   "metadata": {},
   "source": [
    "Из данных для train выяснилось, что клиенты, которые не делали заказ в течение 3-х дней с момента сессии, не совершали заказ и за 90 дней до. На графике голубым цветом помечены клиенты, не сделавшие заказ. Клиенты, которые сделали заказ в течение 3-х дней (помечены красным), как заказывали, так и не заказывали за 90 дней."
   ]
  },
  {
   "cell_type": "code",
   "execution_count": 23,
   "metadata": {},
   "outputs": [],
   "source": [
    "pre_order = train[train['pdp_view'] == 0].loc[train['target'] == 1, train.columns[[1, 3, 6, 7]]]"
   ]
  },
  {
   "cell_type": "code",
   "execution_count": 24,
   "metadata": {},
   "outputs": [
    {
     "data": {
      "text/html": [
       "<div>\n",
       "<style scoped>\n",
       "    .dataframe tbody tr th:only-of-type {\n",
       "        vertical-align: middle;\n",
       "    }\n",
       "\n",
       "    .dataframe tbody tr th {\n",
       "        vertical-align: top;\n",
       "    }\n",
       "\n",
       "    .dataframe thead th {\n",
       "        text-align: right;\n",
       "    }\n",
       "</style>\n",
       "<table border=\"1\" class=\"dataframe\">\n",
       "  <thead>\n",
       "    <tr style=\"text-align: right;\">\n",
       "      <th></th>\n",
       "      <th>add_favorite</th>\n",
       "      <th>add_cart</th>\n",
       "      <th>pre_order</th>\n",
       "      <th>orders</th>\n",
       "    </tr>\n",
       "  </thead>\n",
       "  <tbody>\n",
       "    <tr>\n",
       "      <th>4</th>\n",
       "      <td>0</td>\n",
       "      <td>0</td>\n",
       "      <td>0</td>\n",
       "      <td>6</td>\n",
       "    </tr>\n",
       "    <tr>\n",
       "      <th>10</th>\n",
       "      <td>0</td>\n",
       "      <td>1</td>\n",
       "      <td>0</td>\n",
       "      <td>3</td>\n",
       "    </tr>\n",
       "    <tr>\n",
       "      <th>11</th>\n",
       "      <td>0</td>\n",
       "      <td>0</td>\n",
       "      <td>0</td>\n",
       "      <td>1</td>\n",
       "    </tr>\n",
       "    <tr>\n",
       "      <th>15</th>\n",
       "      <td>0</td>\n",
       "      <td>0</td>\n",
       "      <td>0</td>\n",
       "      <td>4</td>\n",
       "    </tr>\n",
       "    <tr>\n",
       "      <th>18</th>\n",
       "      <td>0</td>\n",
       "      <td>0</td>\n",
       "      <td>0</td>\n",
       "      <td>12</td>\n",
       "    </tr>\n",
       "  </tbody>\n",
       "</table>\n",
       "</div>"
      ],
      "text/plain": [
       "    add_favorite  add_cart  pre_order  orders\n",
       "4              0         0          0       6\n",
       "10             0         1          0       3\n",
       "11             0         0          0       1\n",
       "15             0         0          0       4\n",
       "18             0         0          0      12"
      ]
     },
     "execution_count": 24,
     "metadata": {},
     "output_type": "execute_result"
    }
   ],
   "source": [
    "pre_order.head()"
   ]
  },
  {
   "cell_type": "code",
   "execution_count": 25,
   "metadata": {
    "scrolled": true
   },
   "outputs": [
    {
     "data": {
      "image/png": "[encoded data removed]",
      "text/plain": [
       "<Figure size 432x288 with 1 Axes>"
      ]
     },
     "metadata": {},
     "output_type": "display_data"
    }
   ],
   "source": [
    "fig, ax = plt.subplots()\n",
    "pre_order['orders'].hist(bins=10,range=(1, 10))\n",
    "plt.title('pdp_view = 0 and target = 1',fontsize=15)\n",
    "plt.savefig('pdp_view_0.jpg')\n",
    "plt.show()"
   ]
  },
  {
   "attachments": {},
   "cell_type": "markdown",
   "metadata": {},
   "source": [
    "Все клиенты из выборки train, которые не просматривали страницы на сайте в сессию и сделали заказ, делали заказы за 90 дней до. На диаграмме показано распределение этих заказов среди пользователей с критерием pdp_view=0 и target =1."
   ]
  },
  {
   "cell_type": "code",
   "execution_count": 26,
   "metadata": {},
   "outputs": [
    {
     "data": {
      "text/plain": [
       "(0, 4)"
      ]
     },
     "execution_count": 26,
     "metadata": {},
     "output_type": "execute_result"
    }
   ],
   "source": [
    "pre_order[pre_order['orders']== 0].shape"
   ]
  },
  {
   "cell_type": "code",
   "execution_count": 27,
   "metadata": {},
   "outputs": [
    {
     "data": {
      "image/png": "[encoded data removed]",
      "text/plain": [
       "<Figure size 432x288 with 1 Axes>"
      ]
     },
     "metadata": {},
     "output_type": "display_data"
    }
   ],
   "source": [
    "pre_order['pre_order'].hist(bins=10,range=(0, 2))\n",
    "plt.title('pre_order for pdp_view = 0 and target = 1',fontsize=15)\n",
    "plt.savefig('pdp_view_0_tar_1_pre_order.jpg')\n",
    "plt.show()"
   ]
  },
  {
   "cell_type": "markdown",
   "metadata": {},
   "source": [
    "Также пользователи не посещали страницы с выбором доставки и типа оплаты (pre_order = 0). Ниже изображена диаграмма распределения pre_order  для данных пользователей."
   ]
  },
  {
   "cell_type": "code",
   "execution_count": 28,
   "metadata": {},
   "outputs": [],
   "source": [
    "pre_order_not = train[train['pdp_view'] == 0].loc[train['target'] == 0, train.columns[[1, 3, 6, 7]]] "
   ]
  },
  {
   "cell_type": "code",
   "execution_count": 29,
   "metadata": {},
   "outputs": [
    {
     "data": {
      "text/plain": [
       "(115103, 4)"
      ]
     },
     "execution_count": 29,
     "metadata": {},
     "output_type": "execute_result"
    }
   ],
   "source": [
    "pre_order_not.shape"
   ]
  },
  {
   "cell_type": "code",
   "execution_count": 30,
   "metadata": {},
   "outputs": [
    {
     "data": {
      "image/png": "[encoded data removed]",
      "text/plain": [
       "<Figure size 432x288 with 1 Axes>"
      ]
     },
     "metadata": {},
     "output_type": "display_data"
    }
   ],
   "source": [
    "pre_order_not['pre_order'].hist(bins=10)\n",
    "plt.title('pre_order for pdp_view = 0 and target = 0',fontsize=15)\n",
    "plt.savefig('pdp_view_0_tar_0_pre_order.jpg')\n",
    "plt.show()"
   ]
  },
  {
   "cell_type": "code",
   "execution_count": 35,
   "metadata": {},
   "outputs": [],
   "source": [
    "view = train[train['pdp_view'] != 0].loc[train['target'] == 0, train.columns]"
   ]
  },
  {
   "cell_type": "code",
   "execution_count": 36,
   "metadata": {},
   "outputs": [
    {
     "data": {
      "text/plain": [
       "(255721, 10)"
      ]
     },
     "execution_count": 36,
     "metadata": {},
     "output_type": "execute_result"
    }
   ],
   "source": [
    "view.shape"
   ]
  },
  {
   "cell_type": "code",
   "execution_count": 37,
   "metadata": {},
   "outputs": [
    {
     "data": {
      "image/png": "[encoded data removed]",
      "text/plain": [
       "<Figure size 432x288 with 1 Axes>"
      ]
     },
     "metadata": {},
     "output_type": "display_data"
    }
   ],
   "source": [
    "view['pre_order'].hist(bins=10,range=(0, 2))\n",
    "plt.title('pre_order for target=0 and pdp_view !=0', fontsize=15)\n",
    "plt.savefig('pdp_view_1_tar0.jpg')\n",
    "plt.show()"
   ]
  },
  {
   "cell_type": "markdown",
   "metadata": {},
   "source": [
    "Из данных для train (1305615) следует, что количество тех, кто не делает заказ, меньше: 0.284 (370824), то есть классы не сбалансированы. Значит, больше интересны те пользователи, которые не делают заказы, их сложнее предсказать. При pdp_view ! =0 большинство из них не посещает страницы с выбором доставки и типа оплаты, то есть pre_order = 0. На графике это показано."
   ]
  },
  {
   "cell_type": "code",
   "execution_count": 38,
   "metadata": {},
   "outputs": [],
   "source": [
    "pred_features = ['pdp_view', 'avail_on', 'pre_order', 'orders']"
   ]
  },
  {
   "cell_type": "code",
   "execution_count": 39,
   "metadata": {},
   "outputs": [
    {
     "name": "stdout",
     "output_type": "stream",
     "text": [
      "[1]\tvalid_0's auc: 1\tvalid_0's binary_logloss: 0.548684\n",
      "Training until validation scores don't improve for 50 rounds\n",
      "[2]\tvalid_0's auc: 1\tvalid_0's binary_logloss: 0.506439\n",
      "[3]\tvalid_0's auc: 1\tvalid_0's binary_logloss: 0.469276\n",
      "[4]\tvalid_0's auc: 1\tvalid_0's binary_logloss: 0.436186\n",
      "[5]\tvalid_0's auc: 1\tvalid_0's binary_logloss: 0.406448\n",
      "[6]\tvalid_0's auc: 1\tvalid_0's binary_logloss: 0.37953\n",
      "[7]\tvalid_0's auc: 1\tvalid_0's binary_logloss: 0.355021\n",
      "[8]\tvalid_0's auc: 1\tvalid_0's binary_logloss: 0.332597\n",
      "[9]\tvalid_0's auc: 1\tvalid_0's binary_logloss: 0.311999\n",
      "[10]\tvalid_0's auc: 1\tvalid_0's binary_logloss: 0.293012\n",
      "[11]\tvalid_0's auc: 1\tvalid_0's binary_logloss: 0.27546\n",
      "[12]\tvalid_0's auc: 1\tvalid_0's binary_logloss: 0.259193\n",
      "[13]\tvalid_0's auc: 1\tvalid_0's binary_logloss: 0.244084\n",
      "[14]\tvalid_0's auc: 1\tvalid_0's binary_logloss: 0.230022\n",
      "[15]\tvalid_0's auc: 1\tvalid_0's binary_logloss: 0.216913\n",
      "[16]\tvalid_0's auc: 1\tvalid_0's binary_logloss: 0.204672\n",
      "[17]\tvalid_0's auc: 1\tvalid_0's binary_logloss: 0.193228\n",
      "[18]\tvalid_0's auc: 1\tvalid_0's binary_logloss: 0.182513\n",
      "[19]\tvalid_0's auc: 1\tvalid_0's binary_logloss: 0.172472\n",
      "[20]\tvalid_0's auc: 1\tvalid_0's binary_logloss: 0.16305\n",
      "[21]\tvalid_0's auc: 1\tvalid_0's binary_logloss: 0.154203\n",
      "[22]\tvalid_0's auc: 1\tvalid_0's binary_logloss: 0.145888\n",
      "[23]\tvalid_0's auc: 1\tvalid_0's binary_logloss: 0.138067\n",
      "[24]\tvalid_0's auc: 1\tvalid_0's binary_logloss: 0.130705\n",
      "[25]\tvalid_0's auc: 1\tvalid_0's binary_logloss: 0.123771\n",
      "[26]\tvalid_0's auc: 1\tvalid_0's binary_logloss: 0.117235\n",
      "[27]\tvalid_0's auc: 1\tvalid_0's binary_logloss: 0.111072\n",
      "[28]\tvalid_0's auc: 1\tvalid_0's binary_logloss: 0.105258\n",
      "[29]\tvalid_0's auc: 1\tvalid_0's binary_logloss: 0.0997685\n",
      "[30]\tvalid_0's auc: 1\tvalid_0's binary_logloss: 0.0945847\n",
      "[31]\tvalid_0's auc: 1\tvalid_0's binary_logloss: 0.0896871\n",
      "[32]\tvalid_0's auc: 1\tvalid_0's binary_logloss: 0.085058\n",
      "[33]\tvalid_0's auc: 1\tvalid_0's binary_logloss: 0.0806811\n",
      "[34]\tvalid_0's auc: 1\tvalid_0's binary_logloss: 0.0765414\n",
      "[35]\tvalid_0's auc: 1\tvalid_0's binary_logloss: 0.0726246\n",
      "[36]\tvalid_0's auc: 1\tvalid_0's binary_logloss: 0.0689177\n",
      "[37]\tvalid_0's auc: 1\tvalid_0's binary_logloss: 0.0654083\n",
      "[38]\tvalid_0's auc: 1\tvalid_0's binary_logloss: 0.0620852\n",
      "[39]\tvalid_0's auc: 1\tvalid_0's binary_logloss: 0.0589377\n",
      "[40]\tvalid_0's auc: 1\tvalid_0's binary_logloss: 0.0559557\n",
      "[41]\tvalid_0's auc: 1\tvalid_0's binary_logloss: 0.05313\n",
      "[42]\tvalid_0's auc: 1\tvalid_0's binary_logloss: 0.0504518\n",
      "[43]\tvalid_0's auc: 1\tvalid_0's binary_logloss: 0.047913\n",
      "[44]\tvalid_0's auc: 1\tvalid_0's binary_logloss: 0.0455058\n",
      "[45]\tvalid_0's auc: 1\tvalid_0's binary_logloss: 0.043223\n",
      "[46]\tvalid_0's auc: 1\tvalid_0's binary_logloss: 0.0410578\n",
      "[47]\tvalid_0's auc: 1\tvalid_0's binary_logloss: 0.0390039\n",
      "[48]\tvalid_0's auc: 1\tvalid_0's binary_logloss: 0.0370552\n",
      "[49]\tvalid_0's auc: 1\tvalid_0's binary_logloss: 0.0352062\n",
      "[50]\tvalid_0's auc: 1\tvalid_0's binary_logloss: 0.0334515\n",
      "Did not meet early stopping. Best iteration is:\n",
      "[1]\tvalid_0's auc: 1\tvalid_0's binary_logloss: 0.548684\n"
     ]
    },
    {
     "data": {
      "text/plain": [
       "LGBMClassifier(learning_rate=0.05, max_depth=5, n_estimators=50, num_leaves=63)"
      ]
     },
     "execution_count": 39,
     "metadata": {},
     "output_type": "execute_result"
    }
   ],
   "source": [
    "clf = LGBMClassifier(n_estimators=50,learning_rate=0.05,num_leaves=63,max_depth=5)\n",
    "clf.fit(\n",
    "    train[pred_features], train[target].values.ravel(),\n",
    "    eval_set=[(test[pred_features], test[target].values.ravel())],\n",
    "    eval_metric='auc',\n",
    "    verbose=True,\n",
    "    early_stopping_rounds=50,\n",
    ")"
   ]
  },
  {
   "cell_type": "code",
   "execution_count": 40,
   "metadata": {},
   "outputs": [],
   "source": [
    "pred = clf.predict(val[pred_features])"
   ]
  },
  {
   "cell_type": "code",
   "execution_count": 41,
   "metadata": {},
   "outputs": [
    {
     "data": {
      "text/plain": [
       "0.7156560581365424"
      ]
     },
     "execution_count": 41,
     "metadata": {},
     "output_type": "execute_result"
    }
   ],
   "source": [
    "accuracy_score(val['target'], pred)"
   ]
  }
 ],
 "metadata": {
  "kernelspec": {
   "display_name": "Python 3",
   "language": "python",
   "name": "python3"
  },
  "language_info": {
   "codemirror_mode": {
    "name": "ipython",
    "version": 3
   },
   "file_extension": ".py",
   "mimetype": "text/x-python",
   "name": "python",
   "nbconvert_exporter": "python",
   "pygments_lexer": "ipython3",
   "version": "3.8.3"
  },
  "toc": {
   "base_numbering": 1,
   "nav_menu": {},
   "number_sections": true,
   "sideBar": true,
   "skip_h1_title": false,
   "title_cell": "Table of Contents",
   "title_sidebar": "Contents",
   "toc_cell": false,
   "toc_position": {},
   "toc_section_display": true,
   "toc_window_display": false
  }
 },
 "nbformat": 4,
 "nbformat_minor": 2
}
